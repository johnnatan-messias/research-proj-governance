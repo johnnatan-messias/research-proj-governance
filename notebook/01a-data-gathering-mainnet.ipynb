{
 "cells": [
  {
   "cell_type": "markdown",
   "metadata": {},
   "source": [
    "# Decentralized Autonomous Organizations (DAOs) -- Data gathering\n",
    "\n",
    "**[Johnnatan Messias](https://johnnatan-messias.github.io/), August 2024**\n",
    "\n",
    "This code gathers voting history of decentralized governance protocols.\n"
   ]
  },
  {
   "cell_type": "code",
   "execution_count": 1,
   "metadata": {},
   "outputs": [],
   "source": [
    "import os\n",
    "from web3 import Web3\n",
    "import requests as re\n",
    "import gzip\n",
    "import pickle"
   ]
  },
  {
   "cell_type": "code",
   "execution_count": 2,
   "metadata": {},
   "outputs": [],
   "source": [
    "import sys\n",
    "code_dir = os.path.realpath(os.path.join(os.getcwd(), \"..\", \"src\"))\n",
    "\n",
    "sys.path.append(code_dir)"
   ]
  },
  {
   "cell_type": "code",
   "execution_count": 3,
   "metadata": {},
   "outputs": [],
   "source": [
    "from ethereum import to_checksum_address, get_contract, get_all_events_from_contract, get_blocks, get_batch_intervals"
   ]
  },
  {
   "cell_type": "code",
   "execution_count": 4,
   "metadata": {},
   "outputs": [],
   "source": [
    "# Set directory paths\n",
    "data_dir = os.path.abspath(\n",
    "    os.path.join(os.getcwd(), \"..\", \"data\")) + os.sep\n",
    "plots_dir = os.path.abspath(os.path.join(os.getcwd(), \"..\", \"plots\")) + os.sep\n",
    "\n",
    "blocks_dir = os.path.abspath(os.path.join(data_dir, \"blocks\")) + os.sep\n",
    "# Create directories if they don't exist\n",
    "os.makedirs(data_dir, exist_ok=True)\n",
    "os.makedirs(blocks_dir, exist_ok=True)\n",
    "os.makedirs(plots_dir, exist_ok=True)"
   ]
  },
  {
   "cell_type": "code",
   "execution_count": 5,
   "metadata": {},
   "outputs": [],
   "source": [
    "block_max_ethereum = 20_563_000+1\n",
    "contract_settings = [\n",
    "    # Compound contracts\n",
    "    {\n",
    "        'contract_name': 'compound-governor-alpha',\n",
    "        'contract_address': to_checksum_address('0xc0da01a04c3f3e0be433606045bb7017a7323e38'),\n",
    "        'abi_address': None,\n",
    "        'start': 9_601_459-1,\n",
    "        'end': block_max_ethereum,\n",
    "        'events': None},\n",
    "    {\n",
    "        'contract_name': 'compound-governor-bravo',\n",
    "        'contract_address': to_checksum_address('0xc0da02939e1441f497fd74f78ce7decb17b66529'),\n",
    "        'abi_address': None,\n",
    "        'start': 12_006_099-1,\n",
    "        'end': block_max_ethereum,\n",
    "        'events': None},\n",
    "    {\n",
    "        'contract_name': 'compound-token',\n",
    "        'contract_address': to_checksum_address('0xc00e94cb662c3520282e6f5717214004a7f26888'),\n",
    "        'abi_address': None,\n",
    "        'start': 9_601_359-1,\n",
    "        'end': block_max_ethereum,\n",
    "        'events': None},\n",
    "\n",
    "    # Uniswap contracts\n",
    "    {\n",
    "        'contract_name': 'uniswap-governor-alpha-1',\n",
    "        'contract_address': to_checksum_address('0xc4e172459f1e7939d522503b81afaac1014ce6f6'),\n",
    "        'abi_address': None,\n",
    "        'start': 12_543_659-1,\n",
    "        'end': 13_059_342,\n",
    "        'events': None},\n",
    "    {\n",
    "        'contract_name': 'uniswap-governor-alpha-2',\n",
    "        'contract_address': to_checksum_address('0xc4e172459f1e7939d522503b81afaac1014ce6f6'),\n",
    "        'abi_address': None,\n",
    "        'start': 13_059_344-1,\n",
    "        'end': block_max_ethereum,\n",
    "        'events': None},\n",
    "    {\n",
    "        'contract_name': 'uniswap-governor-bravo',\n",
    "        'contract_address': to_checksum_address('0x408ed6354d4973f66138c91495f2f2fcbd8724c3'),\n",
    "        'abi_address': None,\n",
    "        'start': 13_059_157-1,\n",
    "        'end': block_max_ethereum,\n",
    "        'events': None},\n",
    "    {\n",
    "        'contract_name': 'uniswap-token',\n",
    "        'contract_address': to_checksum_address('0x1f9840a85d5af5bf1d1762f925bdaddc4201f984'),\n",
    "        'abi_address': None,\n",
    "        'start': 10_861_674-1,\n",
    "        'end': block_max_ethereum,\n",
    "        'events': None},\n",
    "]"
   ]
  },
  {
   "cell_type": "code",
   "execution_count": 6,
   "metadata": {},
   "outputs": [
    {
     "name": "stdout",
     "output_type": "stream",
     "text": [
      "Is connected to Ethereum node:  True\n",
      "The most recent block is:  20634589\n"
     ]
    }
   ],
   "source": [
    "# This code connects to Paradigm Reth archive node (see https://x.com/gakonst/status/1702389827390546071)\n",
    "eth_node = 'http://69.67.151.138:8545'\n",
    "\n",
    "adapter = re.adapters.HTTPAdapter(pool_connections=20, pool_maxsize=20)\n",
    "session = re.Session()\n",
    "session.mount('http://', adapter)\n",
    "session.mount('https://', adapter)\n",
    "\n",
    "w3 = Web3(Web3.HTTPProvider(eth_node, session=session,\n",
    "          request_kwargs={'timeout': 60}))\n",
    "\n",
    "print(\"Is connected to Ethereum node: \", w3.is_connected())\n",
    "print(\"The most recent block is: \", w3.eth.block_number)"
   ]
  },
  {
   "cell_type": "code",
   "execution_count": 7,
   "metadata": {},
   "outputs": [],
   "source": [
    "contracts = {}\n",
    "for contract_setting in contract_settings:\n",
    "    contracts[contract_setting['contract_name']] = get_contract(\n",
    "        w3,\n",
    "        contract_setting['contract_address'],\n",
    "        abi_contract_address=contract_setting['abi_address'], is_zksync=False)"
   ]
  },
  {
   "cell_type": "code",
   "execution_count": 8,
   "metadata": {},
   "outputs": [
    {
     "name": "stdout",
     "output_type": "stream",
     "text": [
      "compound-governor-alpha\n",
      "\t ProposalCanceled\n",
      "\t ProposalCreated\n",
      "\t ProposalExecuted\n",
      "\t ProposalQueued\n",
      "\t VoteCast\n",
      "compound-governor-bravo\n",
      "\t NewAdmin\n",
      "\t NewImplementation\n",
      "\t NewPendingAdmin\n",
      "\t ProposalCanceled\n",
      "\t ProposalCreated\n",
      "\t ProposalExecuted\n",
      "\t ProposalQueued\n",
      "\t ProposalThresholdSet\n",
      "\t VoteCast\n",
      "\t VotingDelaySet\n",
      "\t VotingPeriodSet\n",
      "compound-token\n",
      "\t Approval\n",
      "\t DelegateChanged\n",
      "\t DelegateVotesChanged\n",
      "\t Transfer\n",
      "uniswap-governor-alpha-1\n",
      "\t ProposalCanceled\n",
      "\t ProposalCreated\n",
      "\t ProposalExecuted\n",
      "\t ProposalQueued\n",
      "\t VoteCast\n",
      "uniswap-governor-alpha-2\n",
      "\t ProposalCanceled\n",
      "\t ProposalCreated\n",
      "\t ProposalExecuted\n",
      "\t ProposalQueued\n",
      "\t VoteCast\n",
      "uniswap-governor-bravo\n",
      "\t NewAdmin\n",
      "\t NewImplementation\n",
      "\t NewPendingAdmin\n",
      "\t ProposalCanceled\n",
      "\t ProposalCreated\n",
      "\t ProposalExecuted\n",
      "\t ProposalQueued\n",
      "\t ProposalThresholdSet\n",
      "\t VoteCast\n",
      "\t VotingDelaySet\n",
      "\t VotingPeriodSet\n",
      "uniswap-token\n",
      "\t Approval\n",
      "\t DelegateChanged\n",
      "\t DelegateVotesChanged\n",
      "\t MinterChanged\n",
      "\t Transfer\n"
     ]
    }
   ],
   "source": [
    "for contract in contracts:\n",
    "    print(contract)\n",
    "    for event in contracts[contract].events:\n",
    "        print('\\t', event.event_name)"
   ]
  },
  {
   "cell_type": "markdown",
   "metadata": {},
   "source": [
    "## Gathering Events\n"
   ]
  },
  {
   "cell_type": "code",
   "execution_count": null,
   "metadata": {},
   "outputs": [],
   "source": [
    "# Gather all contract events from contract_settings\n",
    "for contract_setting in contract_settings:\n",
    "    print('====== ', contract_setting['contract_name'], ' ======')\n",
    "    batch_size = 2500 if not 'token' in contract_setting['contract_name'] else 50\n",
    "    events = get_all_events_from_contract(contracts[contract_setting['contract_name']],\n",
    "                                          start_block=contract_setting['start'],\n",
    "                                          end_block=contract_setting['end'],\n",
    "                                          batch_size=batch_size,\n",
    "                                          max_workers=10,\n",
    "                                          events=contract_setting['events'])\n",
    "    with gzip.open(data_dir + 'events_' + contract_setting['contract_name'] + '.pkl.gz', 'wb') as f:\n",
    "        pickle.dump(events, f)"
   ]
  },
  {
   "cell_type": "markdown",
   "metadata": {},
   "source": [
    "## Gathering Transactions Related to VoteCast Events Trigerred by Compound and Uniswap\n"
   ]
  },
  {
   "cell_type": "code",
   "execution_count": 9,
   "metadata": {},
   "outputs": [],
   "source": [
    "from ethereum import get_transactions"
   ]
  },
  {
   "cell_type": "code",
   "execution_count": 10,
   "metadata": {},
   "outputs": [
    {
     "name": "stdout",
     "output_type": "stream",
     "text": [
      "There are 65902 transactions of interest\n"
     ]
    }
   ],
   "source": [
    "event_of_interest = ['VoteCast']\n",
    "files_of_interest = ['compound-governor-alpha', 'compound-governor-bravo',\n",
    "                     'uniswap-governor-alpha-1', 'uniswap-governor-bravo']\n",
    "transactions_hashes = []\n",
    "for file in files_of_interest:\n",
    "    file_dir = os.path.join(data_dir, 'events_' + file + '.pkl.gz')\n",
    "    with gzip.open(file_dir, 'rb') as f:\n",
    "        events = pickle.load(f)\n",
    "        transactions_hashes += [event['transactionHash'].hex()\n",
    "                                for event in events['VoteCast']]\n",
    "transactions_hashes = list(set(transactions_hashes))\n",
    "print(\"There are\", len(transactions_hashes), \"transactions of interest\")"
   ]
  },
  {
   "cell_type": "code",
   "execution_count": 11,
   "metadata": {},
   "outputs": [
    {
     "data": {
      "application/vnd.jupyter.widget-view+json": {
       "model_id": "e86a24b9e99f4534a297ca8ab51b5bbd",
       "version_major": 2,
       "version_minor": 0
      },
      "text/plain": [
       "Gathering transactions...:   0%|          | 0/65902 [00:00<?, ?it/s]"
      ]
     },
     "metadata": {},
     "output_type": "display_data"
    }
   ],
   "source": [
    "txs_data = get_transactions(\n",
    "    w3=w3, txs_hashes=transactions_hashes, max_workers=20)"
   ]
  },
  {
   "cell_type": "code",
   "execution_count": 12,
   "metadata": {},
   "outputs": [],
   "source": [
    "file_dir = os.path.join(data_dir, 'transactions_of_votes.pkl.gz')\n",
    "with gzip.open(file_dir, 'wb') as f:\n",
    "    pickle.dump(txs_data, f)"
   ]
  }
 ],
 "metadata": {
  "kernelspec": {
   "display_name": "Python 3",
   "language": "python",
   "name": "python3"
  },
  "language_info": {
   "codemirror_mode": {
    "name": "ipython",
    "version": 3
   },
   "file_extension": ".py",
   "mimetype": "text/x-python",
   "name": "python",
   "nbconvert_exporter": "python",
   "pygments_lexer": "ipython3",
   "version": "3.11.7"
  }
 },
 "nbformat": 4,
 "nbformat_minor": 2
}
