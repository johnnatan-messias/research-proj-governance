{
 "cells": [
  {
   "cell_type": "markdown",
   "metadata": {},
   "source": [
    "# Project Decentralized Governance -- Downloading dataset from our [GitHub repository](https://github.com/johnnatan-messias/research-proj-governance).\n",
    "\n",
    "**[Johnnatan Messias](https://johnnatan-messias.github.io/), April 2025**\n",
    "\n",
    "If you use this notebook, you **do not need** to run the following notebooks:\n",
    "\n",
    "- 01a-data-gathering-mainnet.ipynb\n",
    "- 01b-data-gathering-block-timestamps.ipynb\n",
    "- 01c-data-gathering-accounts-labels.ipynb\n",
    "- 02-parser-governance-data.ipynb\n",
    "\n",
    "After running this notebook, all files needed for running the analysis will be already satisfied.\n"
   ]
  },
  {
   "cell_type": "code",
   "execution_count": 29,
   "metadata": {},
   "outputs": [],
   "source": [
    "import json\n",
    "import urllib.request as req\n",
    "from tqdm.notebook import tqdm"
   ]
  },
  {
   "cell_type": "code",
   "execution_count": 30,
   "metadata": {},
   "outputs": [],
   "source": [
    "import os\n",
    "data_dir = os.path.realpath(os.path.join(os.getcwd(), \"..\", \"data\"))\n",
    "os.makedirs(data_dir, exist_ok=True)"
   ]
  },
  {
   "cell_type": "code",
   "execution_count": null,
   "metadata": {},
   "outputs": [],
   "source": [
    "def load_config_files(data_dir):\n",
    "    files_structure = {}\n",
    "    file_path = os.path.join(data_dir, \"files.json\")\n",
    "    with open(file_path) as f:\n",
    "        files_structure = json.load(f)\n",
    "    return files_structure\n",
    "\n",
    "\n",
    "def download_file_http(url, local_dir):\n",
    "    try:\n",
    "        # Full path where the file will be saved\n",
    "        filename = url.split(\"/\")[-1]\n",
    "        local_file_path = os.path.join(local_dir, filename)\n",
    "\n",
    "        if os.path.exists(local_file_path):\n",
    "            print(\"The file already exist\", local_file_path)\n",
    "        else:\n",
    "\n",
    "            # Download the file\n",
    "            req.urlretrieve(url, local_file_path)\n",
    "\n",
    "            print(f\"Downloaded {filename} successfully to {local_file_path}\")\n",
    "    except Exception as e:\n",
    "        print(f\"HTTP Download Error: {e}\")"
   ]
  },
  {
   "cell_type": "code",
   "execution_count": null,
   "metadata": {},
   "outputs": [],
   "source": [
    "files_structure = load_config_files(data_dir)\n",
    "data_url = \"https://blockchain.mpi-sws.org/datasets/files/decentralized-governance/dataset\"\n",
    "\n",
    "for folder in tqdm(files_structure, desc=\"Downloading files...\"):\n",
    "    p_dir = os.path.join(data_dir, folder) if folder != \"others\" else data_dir\n",
    "    os.makedirs(p_dir, exist_ok=True)\n",
    "    for filename in files_structure[folder]:\n",
    "        file_url = os.path.join(\n",
    "            data_url, folder if folder != \"others\" else \"\", filename)\n",
    "        download_file_http(url=file_url, local_dir=p_dir)"
   ]
  }
 ],
 "metadata": {
  "kernelspec": {
   "display_name": "base",
   "language": "python",
   "name": "python3"
  },
  "language_info": {
   "codemirror_mode": {
    "name": "ipython",
    "version": 3
   },
   "file_extension": ".py",
   "mimetype": "text/x-python",
   "name": "python",
   "nbconvert_exporter": "python",
   "pygments_lexer": "ipython3",
   "version": "3.12.2"
  }
 },
 "nbformat": 4,
 "nbformat_minor": 2
}
