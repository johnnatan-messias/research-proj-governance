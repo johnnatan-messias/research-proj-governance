{
 "cells": [
  {
   "cell_type": "markdown",
   "metadata": {},
   "source": [
    "# Merging plots of Compound and Uniswap Governance Protocols\n",
    "\n",
    "**[Johnnatan Messias](https://johnnatan-messias.github.io/), May 2025**\n",
    "\n",
    "We analyzed the voting history of the Compound and Uniswap Governance Protocol by gathering data from the Ethereum blockchain. This data, collected through an Archive Node, includes all voting history and transfers related to Compound from March 4th, 2020 (starting at block number 9,601,459) to August 19th, 2024 (up to block number 20,563,000).\n"
   ]
  },
  {
   "cell_type": "code",
   "execution_count": 1,
   "metadata": {},
   "outputs": [],
   "source": [
    "import os\n",
    "import pandas as pd\n",
    "import json\n",
    "import numpy as np\n",
    "import seaborn as sns\n",
    "import matplotlib.pyplot as plt\n",
    "from tqdm import tqdm"
   ]
  },
  {
   "cell_type": "code",
   "execution_count": 2,
   "metadata": {},
   "outputs": [],
   "source": [
    "import sys\n",
    "code_dir = os.path.realpath(os.path.join(os.getcwd(), \"..\", \"src\"))\n",
    "\n",
    "sys.path.append(code_dir)"
   ]
  },
  {
   "cell_type": "code",
   "execution_count": 3,
   "metadata": {},
   "outputs": [],
   "source": [
    "proposal_quorum = 0.04 * 10e6  # 4% of total supply\n",
    "protocol_names = ['compound', 'uniswap']\n",
    "dynamic_chart = True\n",
    "plot_style = 'png' if not dynamic_chart else None"
   ]
  },
  {
   "cell_type": "code",
   "execution_count": 4,
   "metadata": {},
   "outputs": [],
   "source": [
    "from plot_utils import get_plotly_layout\n",
    "from plot_utils import colors\n",
    "import plotly.graph_objects as go\n",
    "from plotly import express as px\n",
    "from utils import load_dataframes\n",
    "width, height = 850, 450"
   ]
  },
  {
   "cell_type": "code",
   "execution_count": 5,
   "metadata": {},
   "outputs": [],
   "source": [
    "# Set directory paths\n",
    "data_dir = os.path.abspath(\n",
    "    os.path.join(os.getcwd(), \"..\", \"data\"))\n",
    "plots_dir = os.path.abspath(os.path.join(os.getcwd(), \"..\", \"plots\"))\n",
    "\n",
    "# Create directories if they don't exist\n",
    "os.makedirs(data_dir, exist_ok=True)\n",
    "os.makedirs(plots_dir, exist_ok=True)"
   ]
  },
  {
   "cell_type": "code",
   "execution_count": 6,
   "metadata": {},
   "outputs": [],
   "source": [
    "def load_dataframes(file_dir):\n",
    "    df = pd.read_csv(file_dir)\n",
    "    if 'timestamp' in df.columns:\n",
    "        df['timestamp'] = pd.to_datetime(df['timestamp'])\n",
    "    return df"
   ]
  },
  {
   "cell_type": "code",
   "execution_count": null,
   "metadata": {},
   "outputs": [
    {
     "name": "stderr",
     "output_type": "stream",
     "text": [
      "Loading protocols files...: 100%|██████████| 2/2 [00:23<00:00, 11.74s/it]\n"
     ]
    }
   ],
   "source": [
    "dfs = dict(compound=dict(), uniswap=dict())\n",
    "for protocol_name in tqdm(protocol_names, desc=\"Loading protocols files...\"):\n",
    "    protocol_path = os.path.realpath(os.path.join(data_dir, protocol_name))\n",
    "    filenames = [filename for filename in os.listdir(\n",
    "        protocol_path) if filename.endswith(\".csv.gz\")]\n",
    "    for filename in filenames:\n",
    "        # print(f\"Loading {protocol_name} {filename} dataframes\")\n",
    "        file_dir = os.path.realpath(os.path.join(\n",
    "            data_dir, protocol_name, filename))\n",
    "        df = load_dataframes(file_dir)\n",
    "        dfs[protocol_name][filename.replace(\"_df.csv.gz\", \"\")] = df"
   ]
  },
  {
   "cell_type": "markdown",
   "metadata": {},
   "source": [
    "## Loading Labels\n"
   ]
  },
  {
   "cell_type": "code",
   "execution_count": 8,
   "metadata": {},
   "outputs": [
    {
     "name": "stdout",
     "output_type": "stream",
     "text": [
      "Labels loaded: 29738\n"
     ]
    }
   ],
   "source": [
    "labels_dir = os.path.join(data_dir, \"labels\")\n",
    "with open(os.path.join(labels_dir, \"labels.json\")) as f:\n",
    "    labels = json.load(f)\n",
    "print(\"Labels loaded: {}\".format(len(labels)))"
   ]
  },
  {
   "cell_type": "markdown",
   "metadata": {},
   "source": [
    "## Exploratory Data Analysis\n"
   ]
  },
  {
   "cell_type": "markdown",
   "metadata": {},
   "source": [
    "### Basic Statistics\n"
   ]
  },
  {
   "cell_type": "code",
   "execution_count": 9,
   "metadata": {},
   "outputs": [
    {
     "name": "stdout",
     "output_type": "stream",
     "text": [
      "Protocol: Compound\n",
      "\tIn this dataset, there are 307 unique proposals created by 45 unique proposers\n",
      "\t\tThere are 238 proposals executed\n",
      "\t\tThere are 246 proposals queued\n",
      "\t\tThere are 30 proposals canceled\n",
      "\tThere are 4538 unique voters who have casted 14841 votes\n",
      "\tVotes were cast trough 13926 unique transactions\n",
      "\tThere are 2463 votes with 0 voting power\n",
      "Protocol: Uniswap\n",
      "\tIn this dataset, there are 67 unique proposals created by 31 unique proposers\n",
      "\t\tThere are 43 proposals executed\n",
      "\t\tThere are 43 proposals queued\n",
      "\t\tThere are 14 proposals canceled\n",
      "\tThere are 20695 unique voters who have casted 51580 votes\n",
      "\tVotes were cast trough 51559 unique transactions\n",
      "\tThere are 4168 votes with 0 voting power\n"
     ]
    }
   ],
   "source": [
    "for protocol_name in protocol_names:\n",
    "    print(\"Protocol: {}\".format(protocol_name.capitalize()))\n",
    "    print(\"\\tIn this dataset, there are {} unique proposals created by {} unique proposers\".format(\n",
    "        dfs[protocol_name]['proposal_created'].proposalId.nunique(), dfs[protocol_name]['proposal_created'].proposer.nunique()))\n",
    "    print(\"\\t\\tThere are {} proposals executed\".format(\n",
    "        dfs[protocol_name]['proposal_executed'].proposalId.nunique()))\n",
    "    print(\"\\t\\tThere are {} proposals queued\".format(\n",
    "        dfs[protocol_name]['proposals_queued'].proposalId.nunique()))\n",
    "    print(\"\\t\\tThere are {} proposals canceled\".format(\n",
    "        dfs[protocol_name]['proposal_cancelled'].proposalId.nunique()))\n",
    "\n",
    "    print(\"\\tThere are {} unique voters who have casted {} votes\".format(\n",
    "        dfs[protocol_name]['votes'].voter.nunique(), dfs[protocol_name]['votes'].shape[0]))\n",
    "\n",
    "    print(\"\\tVotes were cast trough {} unique transactions\".format(\n",
    "        dfs[protocol_name]['votes'].transactionHash.nunique()))\n",
    "\n",
    "    # Empty voting power\n",
    "    print(\"\\tThere are {} votes with 0 voting power\".format(\n",
    "        dfs[protocol_name]['votes'].query('votes == 0').shape[0]))"
   ]
  },
  {
   "cell_type": "code",
   "execution_count": 10,
   "metadata": {},
   "outputs": [
    {
     "name": "stdout",
     "output_type": "stream",
     "text": [
      "Protocol: Compound\n",
      "\tThere are 36 proposals defeated by the community\n",
      "Protocol: Uniswap\n",
      "\tThere are 10 proposals defeated by the community\n"
     ]
    }
   ],
   "source": [
    "# Proposals defeated by the community\n",
    "for protocol_name in protocol_names:\n",
    "    print(\"Protocol: {}\".format(protocol_name.capitalize()))\n",
    "    dfs[protocol_name]['proposals_defeated'] = dfs[protocol_name]['votes_weighted'].query(\n",
    "        'status == \"defeated\"').sort_values(by='proposalId', ascending=True)\n",
    "    print(\"\\tThere are {} proposals defeated by the community\".format(\n",
    "        dfs[protocol_name]['proposals_defeated'].proposalId.nunique()))"
   ]
  },
  {
   "cell_type": "markdown",
   "metadata": {},
   "source": [
    "### Proposals\n"
   ]
  },
  {
   "cell_type": "code",
   "execution_count": 11,
   "metadata": {},
   "outputs": [
    {
     "name": "stdout",
     "output_type": "stream",
     "text": [
      "Protocol: Compound\n"
     ]
    },
    {
     "data": {
      "text/html": [
       "<div>\n",
       "<style scoped>\n",
       "    .dataframe tbody tr th:only-of-type {\n",
       "        vertical-align: middle;\n",
       "    }\n",
       "\n",
       "    .dataframe tbody tr th {\n",
       "        vertical-align: top;\n",
       "    }\n",
       "\n",
       "    .dataframe thead th {\n",
       "        text-align: right;\n",
       "    }\n",
       "</style>\n",
       "<table border=\"1\" class=\"dataframe\">\n",
       "  <thead>\n",
       "    <tr style=\"text-align: right;\">\n",
       "      <th></th>\n",
       "      <th>count</th>\n",
       "      <th>mean</th>\n",
       "      <th>std</th>\n",
       "      <th>min</th>\n",
       "      <th>25%</th>\n",
       "      <th>50%</th>\n",
       "      <th>75%</th>\n",
       "      <th>max</th>\n",
       "    </tr>\n",
       "  </thead>\n",
       "  <tbody>\n",
       "    <tr>\n",
       "      <th>proposal_created_timestamp</th>\n",
       "      <td>0.003542</td>\n",
       "      <td>5.130986</td>\n",
       "      <td>5.591237</td>\n",
       "      <td>0.0</td>\n",
       "      <td>0.779931</td>\n",
       "      <td>3.194913</td>\n",
       "      <td>7.625903</td>\n",
       "      <td>31.136551</td>\n",
       "    </tr>\n",
       "  </tbody>\n",
       "</table>\n",
       "</div>"
      ],
      "text/plain": [
       "                               count      mean       std  min       25%  \\\n",
       "proposal_created_timestamp  0.003542  5.130986  5.591237  0.0  0.779931   \n",
       "\n",
       "                                 50%       75%        max  \n",
       "proposal_created_timestamp  3.194913  7.625903  31.136551  "
      ]
     },
     "metadata": {},
     "output_type": "display_data"
    },
    {
     "name": "stdout",
     "output_type": "stream",
     "text": [
      "Protocol: Uniswap\n"
     ]
    },
    {
     "data": {
      "text/html": [
       "<div>\n",
       "<style scoped>\n",
       "    .dataframe tbody tr th:only-of-type {\n",
       "        vertical-align: middle;\n",
       "    }\n",
       "\n",
       "    .dataframe tbody tr th {\n",
       "        vertical-align: top;\n",
       "    }\n",
       "\n",
       "    .dataframe thead th {\n",
       "        text-align: right;\n",
       "    }\n",
       "</style>\n",
       "<table border=\"1\" class=\"dataframe\">\n",
       "  <thead>\n",
       "    <tr style=\"text-align: right;\">\n",
       "      <th></th>\n",
       "      <th>count</th>\n",
       "      <th>mean</th>\n",
       "      <th>std</th>\n",
       "      <th>min</th>\n",
       "      <th>25%</th>\n",
       "      <th>50%</th>\n",
       "      <th>75%</th>\n",
       "      <th>max</th>\n",
       "    </tr>\n",
       "  </thead>\n",
       "  <tbody>\n",
       "    <tr>\n",
       "      <th>proposal_created_timestamp</th>\n",
       "      <td>0.000764</td>\n",
       "      <td>16.362022</td>\n",
       "      <td>20.799404</td>\n",
       "      <td>0.002257</td>\n",
       "      <td>0.905738</td>\n",
       "      <td>6.478125</td>\n",
       "      <td>26.130486</td>\n",
       "      <td>80.989815</td>\n",
       "    </tr>\n",
       "  </tbody>\n",
       "</table>\n",
       "</div>"
      ],
      "text/plain": [
       "                               count       mean        std       min  \\\n",
       "proposal_created_timestamp  0.000764  16.362022  20.799404  0.002257   \n",
       "\n",
       "                                 25%       50%        75%        max  \n",
       "proposal_created_timestamp  0.905738  6.478125  26.130486  80.989815  "
      ]
     },
     "metadata": {},
     "output_type": "display_data"
    }
   ],
   "source": [
    "for protocol_name in protocol_names:\n",
    "    print(\"Protocol: {}\".format(protocol_name.capitalize()))\n",
    "    dfs[protocol_name]['proposals_created_timestamp'] = dfs[protocol_name]['votes_weighted'][['proposalId', 'blockNumber', 'status', 'timestamp']].rename(\n",
    "        columns={'timestamp': 'proposal_created_timestamp'}).sort_values(by='proposal_created_timestamp')\n",
    "    display(((dfs[protocol_name]['proposals_created_timestamp']['proposal_created_timestamp'].diff(\n",
    "    ).dt.total_seconds().describe())/3600/24).to_frame().T)"
   ]
  },
  {
   "cell_type": "code",
   "execution_count": 12,
   "metadata": {},
   "outputs": [
    {
     "data": {
      "application/vnd.plotly.v1+json": {
       "config": {
        "plotlyServerURL": "https://plot.ly"
       },
       "data": [
        {
         "line": {
          "color": "#42bbf1",
          "dash": "solid",
          "width": 4
         },
         "marker": {
          "size": 7
         },
         "mode": "lines+markers",
         "name": "Compound",
         "type": "scatter",
         "x": [
          "2020-04-30T00:00:00.000000000",
          "2020-05-31T00:00:00.000000000",
          "2020-06-30T00:00:00.000000000",
          "2020-07-31T00:00:00.000000000",
          "2020-08-31T00:00:00.000000000",
          "2020-09-30T00:00:00.000000000",
          "2020-10-31T00:00:00.000000000",
          "2020-11-30T00:00:00.000000000",
          "2020-12-31T00:00:00.000000000",
          "2021-01-31T00:00:00.000000000",
          "2021-02-28T00:00:00.000000000",
          "2021-03-31T00:00:00.000000000",
          "2021-04-30T00:00:00.000000000",
          "2021-05-31T00:00:00.000000000",
          "2021-06-30T00:00:00.000000000",
          "2021-07-31T00:00:00.000000000",
          "2021-08-31T00:00:00.000000000",
          "2021-09-30T00:00:00.000000000",
          "2021-10-31T00:00:00.000000000",
          "2021-11-30T00:00:00.000000000",
          "2021-12-31T00:00:00.000000000",
          "2022-01-31T00:00:00.000000000",
          "2022-02-28T00:00:00.000000000",
          "2022-03-31T00:00:00.000000000",
          "2022-04-30T00:00:00.000000000",
          "2022-05-31T00:00:00.000000000",
          "2022-06-30T00:00:00.000000000",
          "2022-07-31T00:00:00.000000000",
          "2022-08-31T00:00:00.000000000",
          "2022-09-30T00:00:00.000000000",
          "2022-10-31T00:00:00.000000000",
          "2022-11-30T00:00:00.000000000",
          "2022-12-31T00:00:00.000000000",
          "2023-01-31T00:00:00.000000000",
          "2023-02-28T00:00:00.000000000",
          "2023-03-31T00:00:00.000000000",
          "2023-04-30T00:00:00.000000000",
          "2023-05-31T00:00:00.000000000",
          "2023-06-30T00:00:00.000000000",
          "2023-07-31T00:00:00.000000000",
          "2023-08-31T00:00:00.000000000",
          "2023-09-30T00:00:00.000000000",
          "2023-10-31T00:00:00.000000000",
          "2023-11-30T00:00:00.000000000",
          "2023-12-31T00:00:00.000000000",
          "2024-01-31T00:00:00.000000000",
          "2024-02-29T00:00:00.000000000",
          "2024-03-31T00:00:00.000000000",
          "2024-04-30T00:00:00.000000000",
          "2024-05-31T00:00:00.000000000",
          "2024-06-30T00:00:00.000000000",
          "2024-07-31T00:00:00.000000000",
          "2024-08-31T00:00:00.000000000"
         ],
         "y": {
          "bdata": "AgIHBwMEAgIFAQMEAgIEBAQFAgcGBQILCAMEBAYHBQQEBgUFAQUDBAgHBQcMBQYOCwgQGgw=",
          "dtype": "i1"
         }
        },
        {
         "line": {
          "color": "#ee443a",
          "dash": "dash",
          "width": 3
         },
         "marker": {
          "size": 7
         },
         "mode": "lines+markers",
         "name": "Uniswap",
         "type": "scatter",
         "x": [
          "2021-08-31T00:00:00.000000000",
          "2021-09-30T00:00:00.000000000",
          "2021-10-31T00:00:00.000000000",
          "2021-11-30T00:00:00.000000000",
          "2021-12-31T00:00:00.000000000",
          "2022-01-31T00:00:00.000000000",
          "2022-02-28T00:00:00.000000000",
          "2022-03-31T00:00:00.000000000",
          "2022-04-30T00:00:00.000000000",
          "2022-05-31T00:00:00.000000000",
          "2022-06-30T00:00:00.000000000",
          "2022-07-31T00:00:00.000000000",
          "2022-08-31T00:00:00.000000000",
          "2022-09-30T00:00:00.000000000",
          "2022-10-31T00:00:00.000000000",
          "2022-11-30T00:00:00.000000000",
          "2022-12-31T00:00:00.000000000",
          "2023-01-31T00:00:00.000000000",
          "2023-02-28T00:00:00.000000000",
          "2023-03-31T00:00:00.000000000",
          "2023-04-30T00:00:00.000000000",
          "2023-05-31T00:00:00.000000000",
          "2023-06-30T00:00:00.000000000",
          "2023-07-31T00:00:00.000000000",
          "2023-08-31T00:00:00.000000000",
          "2023-09-30T00:00:00.000000000",
          "2023-10-31T00:00:00.000000000",
          "2023-11-30T00:00:00.000000000",
          "2023-12-31T00:00:00.000000000",
          "2024-01-31T00:00:00.000000000",
          "2024-02-29T00:00:00.000000000",
          "2024-03-31T00:00:00.000000000",
          "2024-04-30T00:00:00.000000000",
          "2024-05-31T00:00:00.000000000",
          "2024-06-30T00:00:00.000000000",
          "2024-07-31T00:00:00.000000000",
          "2024-08-31T00:00:00.000000000"
         ],
         "y": {
          "bdata": "CAAAAQEAAQMCBAIBAQABAAQBAgEFAQADAwUCAAICAwADAgEAAg==",
          "dtype": "i1"
         }
        }
       ],
       "layout": {
        "font": {
         "family": "Clear Sans",
         "size": 22
        },
        "height": 450,
        "legend": {
         "orientation": "h",
         "x": 0.5,
         "xanchor": "center",
         "y": 1.05
        },
        "margin": {
         "b": 10,
         "l": 10,
         "r": 10,
         "t": 10
        },
        "template": {
         "data": {
          "bar": [
           {
            "error_x": {
             "color": "rgb(36,36,36)"
            },
            "error_y": {
             "color": "rgb(36,36,36)"
            },
            "marker": {
             "line": {
              "color": "white",
              "width": 0.5
             },
             "pattern": {
              "fillmode": "overlay",
              "size": 10,
              "solidity": 0.2
             }
            },
            "type": "bar"
           }
          ],
          "barpolar": [
           {
            "marker": {
             "line": {
              "color": "white",
              "width": 0.5
             },
             "pattern": {
              "fillmode": "overlay",
              "size": 10,
              "solidity": 0.2
             }
            },
            "type": "barpolar"
           }
          ],
          "carpet": [
           {
            "aaxis": {
             "endlinecolor": "rgb(36,36,36)",
             "gridcolor": "white",
             "linecolor": "white",
             "minorgridcolor": "white",
             "startlinecolor": "rgb(36,36,36)"
            },
            "baxis": {
             "endlinecolor": "rgb(36,36,36)",
             "gridcolor": "white",
             "linecolor": "white",
             "minorgridcolor": "white",
             "startlinecolor": "rgb(36,36,36)"
            },
            "type": "carpet"
           }
          ],
          "choropleth": [
           {
            "colorbar": {
             "outlinewidth": 1,
             "tickcolor": "rgb(36,36,36)",
             "ticks": "outside"
            },
            "type": "choropleth"
           }
          ],
          "contour": [
           {
            "colorbar": {
             "outlinewidth": 1,
             "tickcolor": "rgb(36,36,36)",
             "ticks": "outside"
            },
            "colorscale": [
             [
              0,
              "#440154"
             ],
             [
              0.1111111111111111,
              "#482878"
             ],
             [
              0.2222222222222222,
              "#3e4989"
             ],
             [
              0.3333333333333333,
              "#31688e"
             ],
             [
              0.4444444444444444,
              "#26828e"
             ],
             [
              0.5555555555555556,
              "#1f9e89"
             ],
             [
              0.6666666666666666,
              "#35b779"
             ],
             [
              0.7777777777777778,
              "#6ece58"
             ],
             [
              0.8888888888888888,
              "#b5de2b"
             ],
             [
              1,
              "#fde725"
             ]
            ],
            "type": "contour"
           }
          ],
          "contourcarpet": [
           {
            "colorbar": {
             "outlinewidth": 1,
             "tickcolor": "rgb(36,36,36)",
             "ticks": "outside"
            },
            "type": "contourcarpet"
           }
          ],
          "heatmap": [
           {
            "colorbar": {
             "outlinewidth": 1,
             "tickcolor": "rgb(36,36,36)",
             "ticks": "outside"
            },
            "colorscale": [
             [
              0,
              "#440154"
             ],
             [
              0.1111111111111111,
              "#482878"
             ],
             [
              0.2222222222222222,
              "#3e4989"
             ],
             [
              0.3333333333333333,
              "#31688e"
             ],
             [
              0.4444444444444444,
              "#26828e"
             ],
             [
              0.5555555555555556,
              "#1f9e89"
             ],
             [
              0.6666666666666666,
              "#35b779"
             ],
             [
              0.7777777777777778,
              "#6ece58"
             ],
             [
              0.8888888888888888,
              "#b5de2b"
             ],
             [
              1,
              "#fde725"
             ]
            ],
            "type": "heatmap"
           }
          ],
          "histogram": [
           {
            "marker": {
             "line": {
              "color": "white",
              "width": 0.6
             }
            },
            "type": "histogram"
           }
          ],
          "histogram2d": [
           {
            "colorbar": {
             "outlinewidth": 1,
             "tickcolor": "rgb(36,36,36)",
             "ticks": "outside"
            },
            "colorscale": [
             [
              0,
              "#440154"
             ],
             [
              0.1111111111111111,
              "#482878"
             ],
             [
              0.2222222222222222,
              "#3e4989"
             ],
             [
              0.3333333333333333,
              "#31688e"
             ],
             [
              0.4444444444444444,
              "#26828e"
             ],
             [
              0.5555555555555556,
              "#1f9e89"
             ],
             [
              0.6666666666666666,
              "#35b779"
             ],
             [
              0.7777777777777778,
              "#6ece58"
             ],
             [
              0.8888888888888888,
              "#b5de2b"
             ],
             [
              1,
              "#fde725"
             ]
            ],
            "type": "histogram2d"
           }
          ],
          "histogram2dcontour": [
           {
            "colorbar": {
             "outlinewidth": 1,
             "tickcolor": "rgb(36,36,36)",
             "ticks": "outside"
            },
            "colorscale": [
             [
              0,
              "#440154"
             ],
             [
              0.1111111111111111,
              "#482878"
             ],
             [
              0.2222222222222222,
              "#3e4989"
             ],
             [
              0.3333333333333333,
              "#31688e"
             ],
             [
              0.4444444444444444,
              "#26828e"
             ],
             [
              0.5555555555555556,
              "#1f9e89"
             ],
             [
              0.6666666666666666,
              "#35b779"
             ],
             [
              0.7777777777777778,
              "#6ece58"
             ],
             [
              0.8888888888888888,
              "#b5de2b"
             ],
             [
              1,
              "#fde725"
             ]
            ],
            "type": "histogram2dcontour"
           }
          ],
          "mesh3d": [
           {
            "colorbar": {
             "outlinewidth": 1,
             "tickcolor": "rgb(36,36,36)",
             "ticks": "outside"
            },
            "type": "mesh3d"
           }
          ],
          "parcoords": [
           {
            "line": {
             "colorbar": {
              "outlinewidth": 1,
              "tickcolor": "rgb(36,36,36)",
              "ticks": "outside"
             }
            },
            "type": "parcoords"
           }
          ],
          "pie": [
           {
            "automargin": true,
            "type": "pie"
           }
          ],
          "scatter": [
           {
            "fillpattern": {
             "fillmode": "overlay",
             "size": 10,
             "solidity": 0.2
            },
            "type": "scatter"
           }
          ],
          "scatter3d": [
           {
            "line": {
             "colorbar": {
              "outlinewidth": 1,
              "tickcolor": "rgb(36,36,36)",
              "ticks": "outside"
             }
            },
            "marker": {
             "colorbar": {
              "outlinewidth": 1,
              "tickcolor": "rgb(36,36,36)",
              "ticks": "outside"
             }
            },
            "type": "scatter3d"
           }
          ],
          "scattercarpet": [
           {
            "marker": {
             "colorbar": {
              "outlinewidth": 1,
              "tickcolor": "rgb(36,36,36)",
              "ticks": "outside"
             }
            },
            "type": "scattercarpet"
           }
          ],
          "scattergeo": [
           {
            "marker": {
             "colorbar": {
              "outlinewidth": 1,
              "tickcolor": "rgb(36,36,36)",
              "ticks": "outside"
             }
            },
            "type": "scattergeo"
           }
          ],
          "scattergl": [
           {
            "marker": {
             "colorbar": {
              "outlinewidth": 1,
              "tickcolor": "rgb(36,36,36)",
              "ticks": "outside"
             }
            },
            "type": "scattergl"
           }
          ],
          "scattermap": [
           {
            "marker": {
             "colorbar": {
              "outlinewidth": 1,
              "tickcolor": "rgb(36,36,36)",
              "ticks": "outside"
             }
            },
            "type": "scattermap"
           }
          ],
          "scattermapbox": [
           {
            "marker": {
             "colorbar": {
              "outlinewidth": 1,
              "tickcolor": "rgb(36,36,36)",
              "ticks": "outside"
             }
            },
            "type": "scattermapbox"
           }
          ],
          "scatterpolar": [
           {
            "marker": {
             "colorbar": {
              "outlinewidth": 1,
              "tickcolor": "rgb(36,36,36)",
              "ticks": "outside"
             }
            },
            "type": "scatterpolar"
           }
          ],
          "scatterpolargl": [
           {
            "marker": {
             "colorbar": {
              "outlinewidth": 1,
              "tickcolor": "rgb(36,36,36)",
              "ticks": "outside"
             }
            },
            "type": "scatterpolargl"
           }
          ],
          "scatterternary": [
           {
            "marker": {
             "colorbar": {
              "outlinewidth": 1,
              "tickcolor": "rgb(36,36,36)",
              "ticks": "outside"
             }
            },
            "type": "scatterternary"
           }
          ],
          "surface": [
           {
            "colorbar": {
             "outlinewidth": 1,
             "tickcolor": "rgb(36,36,36)",
             "ticks": "outside"
            },
            "colorscale": [
             [
              0,
              "#440154"
             ],
             [
              0.1111111111111111,
              "#482878"
             ],
             [
              0.2222222222222222,
              "#3e4989"
             ],
             [
              0.3333333333333333,
              "#31688e"
             ],
             [
              0.4444444444444444,
              "#26828e"
             ],
             [
              0.5555555555555556,
              "#1f9e89"
             ],
             [
              0.6666666666666666,
              "#35b779"
             ],
             [
              0.7777777777777778,
              "#6ece58"
             ],
             [
              0.8888888888888888,
              "#b5de2b"
             ],
             [
              1,
              "#fde725"
             ]
            ],
            "type": "surface"
           }
          ],
          "table": [
           {
            "cells": {
             "fill": {
              "color": "rgb(237,237,237)"
             },
             "line": {
              "color": "white"
             }
            },
            "header": {
             "fill": {
              "color": "rgb(217,217,217)"
             },
             "line": {
              "color": "white"
             }
            },
            "type": "table"
           }
          ]
         },
         "layout": {
          "annotationdefaults": {
           "arrowhead": 0,
           "arrowwidth": 1
          },
          "autotypenumbers": "strict",
          "coloraxis": {
           "colorbar": {
            "outlinewidth": 1,
            "tickcolor": "rgb(36,36,36)",
            "ticks": "outside"
           }
          },
          "colorscale": {
           "diverging": [
            [
             0,
             "rgb(103,0,31)"
            ],
            [
             0.1,
             "rgb(178,24,43)"
            ],
            [
             0.2,
             "rgb(214,96,77)"
            ],
            [
             0.3,
             "rgb(244,165,130)"
            ],
            [
             0.4,
             "rgb(253,219,199)"
            ],
            [
             0.5,
             "rgb(247,247,247)"
            ],
            [
             0.6,
             "rgb(209,229,240)"
            ],
            [
             0.7,
             "rgb(146,197,222)"
            ],
            [
             0.8,
             "rgb(67,147,195)"
            ],
            [
             0.9,
             "rgb(33,102,172)"
            ],
            [
             1,
             "rgb(5,48,97)"
            ]
           ],
           "sequential": [
            [
             0,
             "#440154"
            ],
            [
             0.1111111111111111,
             "#482878"
            ],
            [
             0.2222222222222222,
             "#3e4989"
            ],
            [
             0.3333333333333333,
             "#31688e"
            ],
            [
             0.4444444444444444,
             "#26828e"
            ],
            [
             0.5555555555555556,
             "#1f9e89"
            ],
            [
             0.6666666666666666,
             "#35b779"
            ],
            [
             0.7777777777777778,
             "#6ece58"
            ],
            [
             0.8888888888888888,
             "#b5de2b"
            ],
            [
             1,
             "#fde725"
            ]
           ],
           "sequentialminus": [
            [
             0,
             "#440154"
            ],
            [
             0.1111111111111111,
             "#482878"
            ],
            [
             0.2222222222222222,
             "#3e4989"
            ],
            [
             0.3333333333333333,
             "#31688e"
            ],
            [
             0.4444444444444444,
             "#26828e"
            ],
            [
             0.5555555555555556,
             "#1f9e89"
            ],
            [
             0.6666666666666666,
             "#35b779"
            ],
            [
             0.7777777777777778,
             "#6ece58"
            ],
            [
             0.8888888888888888,
             "#b5de2b"
            ],
            [
             1,
             "#fde725"
            ]
           ]
          },
          "colorway": [
           "#1F77B4",
           "#FF7F0E",
           "#2CA02C",
           "#D62728",
           "#9467BD",
           "#8C564B",
           "#E377C2",
           "#7F7F7F",
           "#BCBD22",
           "#17BECF"
          ],
          "font": {
           "color": "rgb(36,36,36)"
          },
          "geo": {
           "bgcolor": "white",
           "lakecolor": "white",
           "landcolor": "white",
           "showlakes": true,
           "showland": true,
           "subunitcolor": "white"
          },
          "hoverlabel": {
           "align": "left"
          },
          "hovermode": "closest",
          "mapbox": {
           "style": "light"
          },
          "paper_bgcolor": "white",
          "plot_bgcolor": "white",
          "polar": {
           "angularaxis": {
            "gridcolor": "rgb(232,232,232)",
            "linecolor": "rgb(36,36,36)",
            "showgrid": false,
            "showline": true,
            "ticks": "outside"
           },
           "bgcolor": "white",
           "radialaxis": {
            "gridcolor": "rgb(232,232,232)",
            "linecolor": "rgb(36,36,36)",
            "showgrid": false,
            "showline": true,
            "ticks": "outside"
           }
          },
          "scene": {
           "xaxis": {
            "backgroundcolor": "white",
            "gridcolor": "rgb(232,232,232)",
            "gridwidth": 2,
            "linecolor": "rgb(36,36,36)",
            "showbackground": true,
            "showgrid": false,
            "showline": true,
            "ticks": "outside",
            "zeroline": false,
            "zerolinecolor": "rgb(36,36,36)"
           },
           "yaxis": {
            "backgroundcolor": "white",
            "gridcolor": "rgb(232,232,232)",
            "gridwidth": 2,
            "linecolor": "rgb(36,36,36)",
            "showbackground": true,
            "showgrid": false,
            "showline": true,
            "ticks": "outside",
            "zeroline": false,
            "zerolinecolor": "rgb(36,36,36)"
           },
           "zaxis": {
            "backgroundcolor": "white",
            "gridcolor": "rgb(232,232,232)",
            "gridwidth": 2,
            "linecolor": "rgb(36,36,36)",
            "showbackground": true,
            "showgrid": false,
            "showline": true,
            "ticks": "outside",
            "zeroline": false,
            "zerolinecolor": "rgb(36,36,36)"
           }
          },
          "shapedefaults": {
           "fillcolor": "black",
           "line": {
            "width": 0
           },
           "opacity": 0.3
          },
          "ternary": {
           "aaxis": {
            "gridcolor": "rgb(232,232,232)",
            "linecolor": "rgb(36,36,36)",
            "showgrid": false,
            "showline": true,
            "ticks": "outside"
           },
           "baxis": {
            "gridcolor": "rgb(232,232,232)",
            "linecolor": "rgb(36,36,36)",
            "showgrid": false,
            "showline": true,
            "ticks": "outside"
           },
           "bgcolor": "white",
           "caxis": {
            "gridcolor": "rgb(232,232,232)",
            "linecolor": "rgb(36,36,36)",
            "showgrid": false,
            "showline": true,
            "ticks": "outside"
           }
          },
          "title": {
           "x": 0.05
          },
          "xaxis": {
           "automargin": true,
           "gridcolor": "rgb(232,232,232)",
           "linecolor": "rgb(36,36,36)",
           "showgrid": false,
           "showline": true,
           "ticks": "outside",
           "title": {
            "standoff": 15
           },
           "zeroline": false,
           "zerolinecolor": "rgb(36,36,36)"
          },
          "yaxis": {
           "automargin": true,
           "gridcolor": "rgb(232,232,232)",
           "linecolor": "rgb(36,36,36)",
           "showgrid": false,
           "showline": true,
           "ticks": "outside",
           "title": {
            "standoff": 15
           },
           "zeroline": false,
           "zerolinecolor": "rgb(36,36,36)"
          }
         }
        },
        "width": 850,
        "xaxis": {
         "dtick": "M3",
         "griddash": "dash",
         "minor": {
          "griddash": "dot",
          "ticks": "inside"
         },
         "showgrid": true,
         "tickformat": "%b\n%Y",
         "title": {
          "text": "Proposal creation time"
         }
        },
        "yaxis": {
         "dtick": 5,
         "griddash": "dash",
         "minor": {
          "griddash": "dot",
          "ticks": "inside"
         },
         "range": [
          -1.8,
          27
         ],
         "showgrid": true,
         "tick0": 0,
         "tickmode": "linear",
         "title": {
          "text": "Number of monthly proposals"
         }
        }
       }
      }
     },
     "metadata": {},
     "output_type": "display_data"
    }
   ],
   "source": [
    "data_compound = dfs['compound']['proposals_created_timestamp'].set_index(\n",
    "    'proposal_created_timestamp').resample('ME')['proposalId'].count()\n",
    "data_uniswap = dfs['uniswap']['proposals_created_timestamp'].set_index(\n",
    "    'proposal_created_timestamp').resample('ME')['proposalId'].count()\n",
    "\n",
    "fig = go.Figure(layout=get_plotly_layout(width=width, height=height))\n",
    "fig.add_trace(go.Scatter(x=data_compound.index, y=data_compound, line=dict(\n",
    "    color=colors['blue'], width=4, dash='solid'), mode='lines+markers', name='Compound', marker_size=7))\n",
    "\n",
    "fig.add_trace(go.Scatter(x=data_uniswap.index, y=data_uniswap, line=dict(\n",
    "    color=colors['red'], width=3, dash='dash'), mode='lines+markers', name='Uniswap', marker_size=7))\n",
    "\n",
    "fig.update_layout(\n",
    "    xaxis_title='Proposal creation time',\n",
    "    yaxis_title='Number of monthly proposals',\n",
    "    legend=dict(xanchor='center', x=0.5, y=1.05, orientation='h'),\n",
    "    yaxis=dict(tickmode='linear', tick0=0, dtick=5)\n",
    ")\n",
    "fig.update_xaxes(\n",
    "    dtick=\"M3\", tickformat=\"%b\\n%Y\")\n",
    "fig.update_yaxes(range=[-1.8, 27])\n",
    "\n",
    "file_dir = os.path.join(\n",
    "    plots_dir, \"number_of_proposals_per_month_2.pdf\")\n",
    "fig.write_image(file_dir, width=width, height=height, scale=1)\n",
    "\n",
    "fig.show(plot_style)"
   ]
  },
  {
   "cell_type": "markdown",
   "metadata": {},
   "source": [
    "### Votes Cast\n"
   ]
  },
  {
   "cell_type": "code",
   "execution_count": 13,
   "metadata": {},
   "outputs": [
    {
     "name": "stdout",
     "output_type": "stream",
     "text": [
      "Compound\n"
     ]
    },
    {
     "data": {
      "text/html": [
       "<div>\n",
       "<style scoped>\n",
       "    .dataframe tbody tr th:only-of-type {\n",
       "        vertical-align: middle;\n",
       "    }\n",
       "\n",
       "    .dataframe tbody tr th {\n",
       "        vertical-align: top;\n",
       "    }\n",
       "\n",
       "    .dataframe thead th {\n",
       "        text-align: right;\n",
       "    }\n",
       "</style>\n",
       "<table border=\"1\" class=\"dataframe\">\n",
       "  <thead>\n",
       "    <tr style=\"text-align: right;\">\n",
       "      <th></th>\n",
       "      <th>count</th>\n",
       "      <th>mean</th>\n",
       "      <th>std</th>\n",
       "      <th>min</th>\n",
       "      <th>25%</th>\n",
       "      <th>50%</th>\n",
       "      <th>75%</th>\n",
       "      <th>max</th>\n",
       "    </tr>\n",
       "  </thead>\n",
       "  <tbody>\n",
       "    <tr>\n",
       "      <th>votes</th>\n",
       "      <td>14841.0</td>\n",
       "      <td>13277.57193</td>\n",
       "      <td>40143.130077</td>\n",
       "      <td>0.0</td>\n",
       "      <td>0.0101</td>\n",
       "      <td>0.147143</td>\n",
       "      <td>39.57343</td>\n",
       "      <td>361006.425111</td>\n",
       "    </tr>\n",
       "  </tbody>\n",
       "</table>\n",
       "</div>"
      ],
      "text/plain": [
       "         count         mean           std  min     25%       50%       75%  \\\n",
       "votes  14841.0  13277.57193  40143.130077  0.0  0.0101  0.147143  39.57343   \n",
       "\n",
       "                 max  \n",
       "votes  361006.425111  "
      ]
     },
     "metadata": {},
     "output_type": "display_data"
    },
    {
     "name": "stdout",
     "output_type": "stream",
     "text": [
      "Uniswap\n"
     ]
    },
    {
     "data": {
      "text/html": [
       "<div>\n",
       "<style scoped>\n",
       "    .dataframe tbody tr th:only-of-type {\n",
       "        vertical-align: middle;\n",
       "    }\n",
       "\n",
       "    .dataframe tbody tr th {\n",
       "        vertical-align: top;\n",
       "    }\n",
       "\n",
       "    .dataframe thead th {\n",
       "        text-align: right;\n",
       "    }\n",
       "</style>\n",
       "<table border=\"1\" class=\"dataframe\">\n",
       "  <thead>\n",
       "    <tr style=\"text-align: right;\">\n",
       "      <th></th>\n",
       "      <th>count</th>\n",
       "      <th>mean</th>\n",
       "      <th>std</th>\n",
       "      <th>min</th>\n",
       "      <th>25%</th>\n",
       "      <th>50%</th>\n",
       "      <th>75%</th>\n",
       "      <th>max</th>\n",
       "    </tr>\n",
       "  </thead>\n",
       "  <tbody>\n",
       "    <tr>\n",
       "      <th>votes</th>\n",
       "      <td>51580.0</td>\n",
       "      <td>47548.762241</td>\n",
       "      <td>491462.888967</td>\n",
       "      <td>0.0</td>\n",
       "      <td>0.194624</td>\n",
       "      <td>1.0</td>\n",
       "      <td>1.6</td>\n",
       "      <td>1.501965e+07</td>\n",
       "    </tr>\n",
       "  </tbody>\n",
       "</table>\n",
       "</div>"
      ],
      "text/plain": [
       "         count          mean            std  min       25%  50%  75%  \\\n",
       "votes  51580.0  47548.762241  491462.888967  0.0  0.194624  1.0  1.6   \n",
       "\n",
       "                max  \n",
       "votes  1.501965e+07  "
      ]
     },
     "metadata": {},
     "output_type": "display_data"
    },
    {
     "data": {
      "application/vnd.plotly.v1+json": {
       "config": {
        "plotlyServerURL": "https://plot.ly"
       },
       "data": [
        {
         "line": {
          "color": "#42bbf1",
          "width": 2
         },
         "mode": "lines",
         "name": "Compound",
         "type": "scatter",
         "x": {
          "bdata": "AQACAAMABAAFAAYABwAIAAkACgALAA0ADwAQABEAEgATABQAFQAWABcAGAAZABoAGwAcAB0AHgAfACEAIgAjACQAJQAnACgAKQAqACsALAAtAC4ALwAxADIAMwA0ADUANgA4ADkAOgA7ADwAPQA+AD8AQABBAEIARABFAEcASABJAEoATABPAFEAUgBTAFUAVwBZAFoAXABdAF8AYABhAGIAYwBlAGYAZwBoAGkAagBrAGwAbgBvAHAAcQBzAHQAdQB2AHcAeQB6AHsAfAB9AH4AgACBAIIAgwCEAIUAhwCIAIkAigCLAIwAjQCPAJAAkQCSAJMAlQCWAJcAmACZAJoAnACdAJ8AoAChAKIAowCkAKUApwCoAKkAqgCrAKwArQCuAK8AsACxALIAtAC1ALYAuAC5ALoAuwC8AL0AvgDAAMEAwgDDAMUAxgDHAMgAyQDLAMwAzQDOAM8A0gDTANQA1QDWANcA2ADZANoA2wDcAN0A3wDgAOEA4gDjAOUA5gDnAOkA6wDsAO0A7gDvAPEA8gDzAPQA9QD2APcA+QD6APsA/AD+AP8AAAECAQMBBAEFAQYBBwEIAQkBDAENARABEQESARMBFAEVARYBGAEZARoBGwEcAR0BHgEfASABIQEkASUBJgEnASgBKQEqASsBLAEtAS4BLwEwATEBMgEzAQ==",
          "dtype": "i2"
         },
         "y": {
          "bdata": "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",
          "dtype": "f8"
         }
        },
        {
         "line": {
          "color": "#ee443a",
          "width": 2
         },
         "mode": "lines",
         "name": "Uniswap",
         "type": "scatter",
         "x": {
          "bdata": "CQoLDQ4QERITFBYXGBkcHR4fICEiJCUmJygpKistLi8yMzQ2Nzg5Ojs8PT4/QEFC",
          "dtype": "i1"
         },
         "y": {
          "bdata": "wYPR8jK/ykBo5ekGh6lxQBnIIQxYPfA/mpmZmZmZ8T+amZmZmZnxP5qZmZmZmfE/mpmZmZmZ8T+amZmZmZnxP5qZmZmZmfE/mpmZmZmZ8T+amZmZmZnxP5qZmZmZmfE/AAAAAAAA8D8AAAAAAADwPzMzMzMzM/M/mpmZmZmZ8T8AAAAAAADwP5qZmZmZmfE/AAAAAAAA8D+amZmZmZnxPyK6jxyk7AZA6MM+24wjAUBEvIj/CZkTQHuFpS78/BpAvuyYJiEBJUCamZmZmZnxP/AodGBP0vM/H4XrUbge8T8j8SLwSMzyP1HaG3xhsvM/uHUpEZaf8j+amZmZmZnxPwAAAAAAAPA/AAAAAAAA8D8AAAAAAADwPwAAAAAAAPA/AAAAAAAA8D8AAAAAAADwP2T27YfBNPA/2LWXHFqz4z8AAAAAAADwPwAAAAAAAPA/AAAAAAAA8D9nPAtbz8MBQAEAAAAAAPA/q9MkITBS8D/rgHd4frzwP7wehetRuMY/",
          "dtype": "f8"
         }
        }
       ],
       "layout": {
        "font": {
         "family": "Clear Sans",
         "size": 22
        },
        "height": 450,
        "legend": {
         "orientation": "h",
         "x": 0.5,
         "xanchor": "center",
         "y": 1.15
        },
        "margin": {
         "b": 10,
         "l": 10,
         "r": 10,
         "t": 10
        },
        "template": {
         "data": {
          "bar": [
           {
            "error_x": {
             "color": "rgb(36,36,36)"
            },
            "error_y": {
             "color": "rgb(36,36,36)"
            },
            "marker": {
             "line": {
              "color": "white",
              "width": 0.5
             },
             "pattern": {
              "fillmode": "overlay",
              "size": 10,
              "solidity": 0.2
             }
            },
            "type": "bar"
           }
          ],
          "barpolar": [
           {
            "marker": {
             "line": {
              "color": "white",
              "width": 0.5
             },
             "pattern": {
              "fillmode": "overlay",
              "size": 10,
              "solidity": 0.2
             }
            },
            "type": "barpolar"
           }
          ],
          "carpet": [
           {
            "aaxis": {
             "endlinecolor": "rgb(36,36,36)",
             "gridcolor": "white",
             "linecolor": "white",
             "minorgridcolor": "white",
             "startlinecolor": "rgb(36,36,36)"
            },
            "baxis": {
             "endlinecolor": "rgb(36,36,36)",
             "gridcolor": "white",
             "linecolor": "white",
             "minorgridcolor": "white",
             "startlinecolor": "rgb(36,36,36)"
            },
            "type": "carpet"
           }
          ],
          "choropleth": [
           {
            "colorbar": {
             "outlinewidth": 1,
             "tickcolor": "rgb(36,36,36)",
             "ticks": "outside"
            },
            "type": "choropleth"
           }
          ],
          "contour": [
           {
            "colorbar": {
             "outlinewidth": 1,
             "tickcolor": "rgb(36,36,36)",
             "ticks": "outside"
            },
            "colorscale": [
             [
              0,
              "#440154"
             ],
             [
              0.1111111111111111,
              "#482878"
             ],
             [
              0.2222222222222222,
              "#3e4989"
             ],
             [
              0.3333333333333333,
              "#31688e"
             ],
             [
              0.4444444444444444,
              "#26828e"
             ],
             [
              0.5555555555555556,
              "#1f9e89"
             ],
             [
              0.6666666666666666,
              "#35b779"
             ],
             [
              0.7777777777777778,
              "#6ece58"
             ],
             [
              0.8888888888888888,
              "#b5de2b"
             ],
             [
              1,
              "#fde725"
             ]
            ],
            "type": "contour"
           }
          ],
          "contourcarpet": [
           {
            "colorbar": {
             "outlinewidth": 1,
             "tickcolor": "rgb(36,36,36)",
             "ticks": "outside"
            },
            "type": "contourcarpet"
           }
          ],
          "heatmap": [
           {
            "colorbar": {
             "outlinewidth": 1,
             "tickcolor": "rgb(36,36,36)",
             "ticks": "outside"
            },
            "colorscale": [
             [
              0,
              "#440154"
             ],
             [
              0.1111111111111111,
              "#482878"
             ],
             [
              0.2222222222222222,
              "#3e4989"
             ],
             [
              0.3333333333333333,
              "#31688e"
             ],
             [
              0.4444444444444444,
              "#26828e"
             ],
             [
              0.5555555555555556,
              "#1f9e89"
             ],
             [
              0.6666666666666666,
              "#35b779"
             ],
             [
              0.7777777777777778,
              "#6ece58"
             ],
             [
              0.8888888888888888,
              "#b5de2b"
             ],
             [
              1,
              "#fde725"
             ]
            ],
            "type": "heatmap"
           }
          ],
          "histogram": [
           {
            "marker": {
             "line": {
              "color": "white",
              "width": 0.6
             }
            },
            "type": "histogram"
           }
          ],
          "histogram2d": [
           {
            "colorbar": {
             "outlinewidth": 1,
             "tickcolor": "rgb(36,36,36)",
             "ticks": "outside"
            },
            "colorscale": [
             [
              0,
              "#440154"
             ],
             [
              0.1111111111111111,
              "#482878"
             ],
             [
              0.2222222222222222,
              "#3e4989"
             ],
             [
              0.3333333333333333,
              "#31688e"
             ],
             [
              0.4444444444444444,
              "#26828e"
             ],
             [
              0.5555555555555556,
              "#1f9e89"
             ],
             [
              0.6666666666666666,
              "#35b779"
             ],
             [
              0.7777777777777778,
              "#6ece58"
             ],
             [
              0.8888888888888888,
              "#b5de2b"
             ],
             [
              1,
              "#fde725"
             ]
            ],
            "type": "histogram2d"
           }
          ],
          "histogram2dcontour": [
           {
            "colorbar": {
             "outlinewidth": 1,
             "tickcolor": "rgb(36,36,36)",
             "ticks": "outside"
            },
            "colorscale": [
             [
              0,
              "#440154"
             ],
             [
              0.1111111111111111,
              "#482878"
             ],
             [
              0.2222222222222222,
              "#3e4989"
             ],
             [
              0.3333333333333333,
              "#31688e"
             ],
             [
              0.4444444444444444,
              "#26828e"
             ],
             [
              0.5555555555555556,
              "#1f9e89"
             ],
             [
              0.6666666666666666,
              "#35b779"
             ],
             [
              0.7777777777777778,
              "#6ece58"
             ],
             [
              0.8888888888888888,
              "#b5de2b"
             ],
             [
              1,
              "#fde725"
             ]
            ],
            "type": "histogram2dcontour"
           }
          ],
          "mesh3d": [
           {
            "colorbar": {
             "outlinewidth": 1,
             "tickcolor": "rgb(36,36,36)",
             "ticks": "outside"
            },
            "type": "mesh3d"
           }
          ],
          "parcoords": [
           {
            "line": {
             "colorbar": {
              "outlinewidth": 1,
              "tickcolor": "rgb(36,36,36)",
              "ticks": "outside"
             }
            },
            "type": "parcoords"
           }
          ],
          "pie": [
           {
            "automargin": true,
            "type": "pie"
           }
          ],
          "scatter": [
           {
            "fillpattern": {
             "fillmode": "overlay",
             "size": 10,
             "solidity": 0.2
            },
            "type": "scatter"
           }
          ],
          "scatter3d": [
           {
            "line": {
             "colorbar": {
              "outlinewidth": 1,
              "tickcolor": "rgb(36,36,36)",
              "ticks": "outside"
             }
            },
            "marker": {
             "colorbar": {
              "outlinewidth": 1,
              "tickcolor": "rgb(36,36,36)",
              "ticks": "outside"
             }
            },
            "type": "scatter3d"
           }
          ],
          "scattercarpet": [
           {
            "marker": {
             "colorbar": {
              "outlinewidth": 1,
              "tickcolor": "rgb(36,36,36)",
              "ticks": "outside"
             }
            },
            "type": "scattercarpet"
           }
          ],
          "scattergeo": [
           {
            "marker": {
             "colorbar": {
              "outlinewidth": 1,
              "tickcolor": "rgb(36,36,36)",
              "ticks": "outside"
             }
            },
            "type": "scattergeo"
           }
          ],
          "scattergl": [
           {
            "marker": {
             "colorbar": {
              "outlinewidth": 1,
              "tickcolor": "rgb(36,36,36)",
              "ticks": "outside"
             }
            },
            "type": "scattergl"
           }
          ],
          "scattermap": [
           {
            "marker": {
             "colorbar": {
              "outlinewidth": 1,
              "tickcolor": "rgb(36,36,36)",
              "ticks": "outside"
             }
            },
            "type": "scattermap"
           }
          ],
          "scattermapbox": [
           {
            "marker": {
             "colorbar": {
              "outlinewidth": 1,
              "tickcolor": "rgb(36,36,36)",
              "ticks": "outside"
             }
            },
            "type": "scattermapbox"
           }
          ],
          "scatterpolar": [
           {
            "marker": {
             "colorbar": {
              "outlinewidth": 1,
              "tickcolor": "rgb(36,36,36)",
              "ticks": "outside"
             }
            },
            "type": "scatterpolar"
           }
          ],
          "scatterpolargl": [
           {
            "marker": {
             "colorbar": {
              "outlinewidth": 1,
              "tickcolor": "rgb(36,36,36)",
              "ticks": "outside"
             }
            },
            "type": "scatterpolargl"
           }
          ],
          "scatterternary": [
           {
            "marker": {
             "colorbar": {
              "outlinewidth": 1,
              "tickcolor": "rgb(36,36,36)",
              "ticks": "outside"
             }
            },
            "type": "scatterternary"
           }
          ],
          "surface": [
           {
            "colorbar": {
             "outlinewidth": 1,
             "tickcolor": "rgb(36,36,36)",
             "ticks": "outside"
            },
            "colorscale": [
             [
              0,
              "#440154"
             ],
             [
              0.1111111111111111,
              "#482878"
             ],
             [
              0.2222222222222222,
              "#3e4989"
             ],
             [
              0.3333333333333333,
              "#31688e"
             ],
             [
              0.4444444444444444,
              "#26828e"
             ],
             [
              0.5555555555555556,
              "#1f9e89"
             ],
             [
              0.6666666666666666,
              "#35b779"
             ],
             [
              0.7777777777777778,
              "#6ece58"
             ],
             [
              0.8888888888888888,
              "#b5de2b"
             ],
             [
              1,
              "#fde725"
             ]
            ],
            "type": "surface"
           }
          ],
          "table": [
           {
            "cells": {
             "fill": {
              "color": "rgb(237,237,237)"
             },
             "line": {
              "color": "white"
             }
            },
            "header": {
             "fill": {
              "color": "rgb(217,217,217)"
             },
             "line": {
              "color": "white"
             }
            },
            "type": "table"
           }
          ]
         },
         "layout": {
          "annotationdefaults": {
           "arrowhead": 0,
           "arrowwidth": 1
          },
          "autotypenumbers": "strict",
          "coloraxis": {
           "colorbar": {
            "outlinewidth": 1,
            "tickcolor": "rgb(36,36,36)",
            "ticks": "outside"
           }
          },
          "colorscale": {
           "diverging": [
            [
             0,
             "rgb(103,0,31)"
            ],
            [
             0.1,
             "rgb(178,24,43)"
            ],
            [
             0.2,
             "rgb(214,96,77)"
            ],
            [
             0.3,
             "rgb(244,165,130)"
            ],
            [
             0.4,
             "rgb(253,219,199)"
            ],
            [
             0.5,
             "rgb(247,247,247)"
            ],
            [
             0.6,
             "rgb(209,229,240)"
            ],
            [
             0.7,
             "rgb(146,197,222)"
            ],
            [
             0.8,
             "rgb(67,147,195)"
            ],
            [
             0.9,
             "rgb(33,102,172)"
            ],
            [
             1,
             "rgb(5,48,97)"
            ]
           ],
           "sequential": [
            [
             0,
             "#440154"
            ],
            [
             0.1111111111111111,
             "#482878"
            ],
            [
             0.2222222222222222,
             "#3e4989"
            ],
            [
             0.3333333333333333,
             "#31688e"
            ],
            [
             0.4444444444444444,
             "#26828e"
            ],
            [
             0.5555555555555556,
             "#1f9e89"
            ],
            [
             0.6666666666666666,
             "#35b779"
            ],
            [
             0.7777777777777778,
             "#6ece58"
            ],
            [
             0.8888888888888888,
             "#b5de2b"
            ],
            [
             1,
             "#fde725"
            ]
           ],
           "sequentialminus": [
            [
             0,
             "#440154"
            ],
            [
             0.1111111111111111,
             "#482878"
            ],
            [
             0.2222222222222222,
             "#3e4989"
            ],
            [
             0.3333333333333333,
             "#31688e"
            ],
            [
             0.4444444444444444,
             "#26828e"
            ],
            [
             0.5555555555555556,
             "#1f9e89"
            ],
            [
             0.6666666666666666,
             "#35b779"
            ],
            [
             0.7777777777777778,
             "#6ece58"
            ],
            [
             0.8888888888888888,
             "#b5de2b"
            ],
            [
             1,
             "#fde725"
            ]
           ]
          },
          "colorway": [
           "#1F77B4",
           "#FF7F0E",
           "#2CA02C",
           "#D62728",
           "#9467BD",
           "#8C564B",
           "#E377C2",
           "#7F7F7F",
           "#BCBD22",
           "#17BECF"
          ],
          "font": {
           "color": "rgb(36,36,36)"
          },
          "geo": {
           "bgcolor": "white",
           "lakecolor": "white",
           "landcolor": "white",
           "showlakes": true,
           "showland": true,
           "subunitcolor": "white"
          },
          "hoverlabel": {
           "align": "left"
          },
          "hovermode": "closest",
          "mapbox": {
           "style": "light"
          },
          "paper_bgcolor": "white",
          "plot_bgcolor": "white",
          "polar": {
           "angularaxis": {
            "gridcolor": "rgb(232,232,232)",
            "linecolor": "rgb(36,36,36)",
            "showgrid": false,
            "showline": true,
            "ticks": "outside"
           },
           "bgcolor": "white",
           "radialaxis": {
            "gridcolor": "rgb(232,232,232)",
            "linecolor": "rgb(36,36,36)",
            "showgrid": false,
            "showline": true,
            "ticks": "outside"
           }
          },
          "scene": {
           "xaxis": {
            "backgroundcolor": "white",
            "gridcolor": "rgb(232,232,232)",
            "gridwidth": 2,
            "linecolor": "rgb(36,36,36)",
            "showbackground": true,
            "showgrid": false,
            "showline": true,
            "ticks": "outside",
            "zeroline": false,
            "zerolinecolor": "rgb(36,36,36)"
           },
           "yaxis": {
            "backgroundcolor": "white",
            "gridcolor": "rgb(232,232,232)",
            "gridwidth": 2,
            "linecolor": "rgb(36,36,36)",
            "showbackground": true,
            "showgrid": false,
            "showline": true,
            "ticks": "outside",
            "zeroline": false,
            "zerolinecolor": "rgb(36,36,36)"
           },
           "zaxis": {
            "backgroundcolor": "white",
            "gridcolor": "rgb(232,232,232)",
            "gridwidth": 2,
            "linecolor": "rgb(36,36,36)",
            "showbackground": true,
            "showgrid": false,
            "showline": true,
            "ticks": "outside",
            "zeroline": false,
            "zerolinecolor": "rgb(36,36,36)"
           }
          },
          "shapedefaults": {
           "fillcolor": "black",
           "line": {
            "width": 0
           },
           "opacity": 0.3
          },
          "ternary": {
           "aaxis": {
            "gridcolor": "rgb(232,232,232)",
            "linecolor": "rgb(36,36,36)",
            "showgrid": false,
            "showline": true,
            "ticks": "outside"
           },
           "baxis": {
            "gridcolor": "rgb(232,232,232)",
            "linecolor": "rgb(36,36,36)",
            "showgrid": false,
            "showline": true,
            "ticks": "outside"
           },
           "bgcolor": "white",
           "caxis": {
            "gridcolor": "rgb(232,232,232)",
            "linecolor": "rgb(36,36,36)",
            "showgrid": false,
            "showline": true,
            "ticks": "outside"
           }
          },
          "title": {
           "x": 0.05
          },
          "xaxis": {
           "automargin": true,
           "gridcolor": "rgb(232,232,232)",
           "linecolor": "rgb(36,36,36)",
           "showgrid": false,
           "showline": true,
           "ticks": "outside",
           "title": {
            "standoff": 15
           },
           "zeroline": false,
           "zerolinecolor": "rgb(36,36,36)"
          },
          "yaxis": {
           "automargin": true,
           "gridcolor": "rgb(232,232,232)",
           "linecolor": "rgb(36,36,36)",
           "showgrid": false,
           "showline": true,
           "ticks": "outside",
           "title": {
            "standoff": 15
           },
           "zeroline": false,
           "zerolinecolor": "rgb(36,36,36)"
          }
         }
        },
        "width": 850,
        "xaxis": {
         "dtick": 20,
         "griddash": "dash",
         "minor": {
          "griddash": "dot",
          "ticks": "inside"
         },
         "showgrid": true,
         "tick0": 0,
         "tickmode": "linear",
         "title": {
          "text": "Proposal ID"
         }
        },
        "yaxis": {
         "griddash": "dash",
         "minor": {
          "griddash": "dot",
          "ticks": "inside"
         },
         "showgrid": true,
         "title": {
          "text": "Median number of votes"
         },
         "type": "log"
        }
       }
      }
     },
     "metadata": {},
     "output_type": "display_data"
    }
   ],
   "source": [
    "# Plot showing the distribution of COMP tokens held by voters during a voting period\n",
    "fig = go.Figure(layout=get_plotly_layout(width=width, height=height))\n",
    "\n",
    "print(\"Compound\")\n",
    "display(dfs['compound']['votes'].votes.describe().to_frame().T)\n",
    "\n",
    "min_votes = 1e-3\n",
    "proposals_ids = dfs['compound']['proposals_defeated'].proposalId\n",
    "data = dfs['compound']['votes'].query(\n",
    "    \"(proposalId not in @proposals_ids) and (votes >= @min_votes)\"\n",
    ").groupby('proposalId').agg({'votes': ['mean', 'median', 'sum']})\n",
    "\n",
    "fig.add_trace(go.Scatter(x=data.index, y=data[('votes', 'median')], line=dict(\n",
    "    color=colors['blue'], width=2), mode='lines', name='Compound'))\n",
    "\n",
    "print(\"Uniswap\")\n",
    "display(dfs['uniswap']['votes'].votes.describe().to_frame().T)\n",
    "\n",
    "min_votes = 1e-3\n",
    "proposals_ids = dfs['uniswap']['proposals_defeated'].proposalId\n",
    "data = dfs['uniswap']['votes'].query(\n",
    "    \"(proposalId not in @proposals_ids) and (votes >= @min_votes)\"\n",
    ").groupby('proposalId').agg({'votes': ['mean', 'median', 'sum']})\n",
    "\n",
    "fig.add_trace(go.Scatter(x=data.index, y=data[('votes', 'median')], line=dict(\n",
    "    color=colors['red'], width=2), mode='lines', name='Uniswap'))\n",
    "\n",
    "fig.update_layout(yaxis_title=\"Median number of votes\", xaxis_title=\"Proposal ID\",\n",
    "                  xaxis=dict(tickmode='linear', tick0=0, dtick=20),\n",
    "                  legend=dict(xanchor='center', x=0.5, y=1.15, orientation='h'))\n",
    "\n",
    "fig.update_yaxes(type=\"log\")\n",
    "\n",
    "file_dir = os.path.join(\n",
    "    plots_dir, \"distribution_of_voting_power_by_voter_per_proposal_2.pdf\")\n",
    "fig.write_image(file_dir, width=width, height=height, scale=1)\n",
    "\n",
    "fig.show(plot_style)"
   ]
  },
  {
   "cell_type": "code",
   "execution_count": 18,
   "metadata": {},
   "outputs": [
    {
     "name": "stdout",
     "output_type": "stream",
     "text": [
      "Compound\n"
     ]
    },
    {
     "data": {
      "text/html": [
       "<div>\n",
       "<style scoped>\n",
       "    .dataframe tbody tr th:only-of-type {\n",
       "        vertical-align: middle;\n",
       "    }\n",
       "\n",
       "    .dataframe tbody tr th {\n",
       "        vertical-align: top;\n",
       "    }\n",
       "\n",
       "    .dataframe thead th {\n",
       "        text-align: right;\n",
       "    }\n",
       "</style>\n",
       "<table border=\"1\" class=\"dataframe\">\n",
       "  <thead>\n",
       "    <tr style=\"text-align: right;\">\n",
       "      <th></th>\n",
       "      <th>count</th>\n",
       "      <th>mean</th>\n",
       "      <th>std</th>\n",
       "      <th>min</th>\n",
       "      <th>25%</th>\n",
       "      <th>50%</th>\n",
       "      <th>75%</th>\n",
       "      <th>max</th>\n",
       "    </tr>\n",
       "  </thead>\n",
       "  <tbody>\n",
       "    <tr>\n",
       "      <th>votes</th>\n",
       "      <td>14841.0</td>\n",
       "      <td>13277.57193</td>\n",
       "      <td>40143.130077</td>\n",
       "      <td>0.0</td>\n",
       "      <td>0.0101</td>\n",
       "      <td>0.147143</td>\n",
       "      <td>39.57343</td>\n",
       "      <td>361006.425111</td>\n",
       "    </tr>\n",
       "  </tbody>\n",
       "</table>\n",
       "</div>"
      ],
      "text/plain": [
       "         count         mean           std  min     25%       50%       75%  \\\n",
       "votes  14841.0  13277.57193  40143.130077  0.0  0.0101  0.147143  39.57343   \n",
       "\n",
       "                 max  \n",
       "votes  361006.425111  "
      ]
     },
     "metadata": {},
     "output_type": "display_data"
    },
    {
     "name": "stdout",
     "output_type": "stream",
     "text": [
      "Uniswap\n"
     ]
    },
    {
     "data": {
      "text/html": [
       "<div>\n",
       "<style scoped>\n",
       "    .dataframe tbody tr th:only-of-type {\n",
       "        vertical-align: middle;\n",
       "    }\n",
       "\n",
       "    .dataframe tbody tr th {\n",
       "        vertical-align: top;\n",
       "    }\n",
       "\n",
       "    .dataframe thead th {\n",
       "        text-align: right;\n",
       "    }\n",
       "</style>\n",
       "<table border=\"1\" class=\"dataframe\">\n",
       "  <thead>\n",
       "    <tr style=\"text-align: right;\">\n",
       "      <th></th>\n",
       "      <th>count</th>\n",
       "      <th>mean</th>\n",
       "      <th>std</th>\n",
       "      <th>min</th>\n",
       "      <th>25%</th>\n",
       "      <th>50%</th>\n",
       "      <th>75%</th>\n",
       "      <th>max</th>\n",
       "    </tr>\n",
       "  </thead>\n",
       "  <tbody>\n",
       "    <tr>\n",
       "      <th>votes</th>\n",
       "      <td>51580.0</td>\n",
       "      <td>47548.762241</td>\n",
       "      <td>491462.888967</td>\n",
       "      <td>0.0</td>\n",
       "      <td>0.194624</td>\n",
       "      <td>1.0</td>\n",
       "      <td>1.6</td>\n",
       "      <td>1.501965e+07</td>\n",
       "    </tr>\n",
       "  </tbody>\n",
       "</table>\n",
       "</div>"
      ],
      "text/plain": [
       "         count          mean            std  min       25%  50%  75%  \\\n",
       "votes  51580.0  47548.762241  491462.888967  0.0  0.194624  1.0  1.6   \n",
       "\n",
       "                max  \n",
       "votes  1.501965e+07  "
      ]
     },
     "metadata": {},
     "output_type": "display_data"
    },
    {
     "data": {
      "application/vnd.plotly.v1+json": {
       "config": {
        "plotlyServerURL": "https://plot.ly"
       },
       "data": [
        {
         "line": {
          "color": "#42bbf1",
          "width": 2
         },
         "mode": "markers",
         "name": "Compound",
         "type": "scatter",
         "x": {
          "bdata": "AQACAAMABAAFAAYABwAIAAkACgALAA0ADwAQABEAEgATABQAFQAWABcAGAAZABoAGwAcAB0AHgAfACEAIgAjACQAJQAnACgAKQAqACsALAAtAC4ALwAxADIAMwA0ADUANgA4ADkAOgA7ADwAPQA+AD8AQABBAEIARABFAEcASABJAEoATABPAFEAUgBTAFUAVwBZAFoAXABdAF8AYABhAGIAYwBlAGYAZwBoAGkAagBrAGwAbgBvAHAAcQBzAHQAdQB2AHcAeQB6AHsAfAB9AH4AgACBAIIAgwCEAIUAhwCIAIkAigCLAIwAjQCPAJAAkQCSAJMAlQCWAJcAmACZAJoAnACdAJ8AoAChAKIAowCkAKUApwCoAKkAqgCrAKwArQCuAK8AsACxALIAtAC1ALYAuAC5ALoAuwC8AL0AvgDAAMEAwgDDAMUAxgDHAMgAyQDLAMwAzQDOAM8A0gDTANQA1QDWANcA2ADZANoA2wDcAN0A3wDgAOEA4gDjAOUA5gDnAOkA6wDsAO0A7gDvAPEA8gDzAPQA9QD2APcA+QD6APsA/AD+AP8AAAECAQMBBAEFAQYBBwEIAQkBDAENARABEQESARMBFAEVARYBGAEZARoBGwEcAR0BHgEfASABIQEkASUBJgEnASgBKQEqASsBLAEtAS4BLwEwATEBMgEzAQ==",
          "dtype": "i2"
         },
         "y": {
          "bdata": "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",
          "dtype": "f8"
         }
        },
        {
         "line": {
          "color": "#ee443a",
          "width": 2
         },
         "mode": "markers",
         "name": "Uniswap",
         "type": "scatter",
         "x": {
          "bdata": "CQoLDQ4QERITFBYXGBkcHR4fICEiJCUmJygpKistLi8yMzQ2Nzg5Ojs8PT4/QEFC",
          "dtype": "i1"
         },
         "y": {
          "bdata": "10rFpBAEkUEvFXKm71CRQVizHywDdZJBAqwJWAjyjkFuViRyWt+EQc0QR5Jhf4xB4MG64V4vU0GgOwt3Uy5DQbgAuCQ1LIhBqlI19g74hUEbRecpcWGRQdqosjsMJYhBvspvJIqflEFGkZpqQ0SRQbpo8UKgaW9BUsboEUt/ikHz5Quy/JuJQYpN4+CVN5RBZVgteVfSg0Gm3ZIbrj6IQZz+7yijPYRBb3Y5iY98hEFfpY5sdcmHQZ5f/aLjVodBMllKyzAGiEHrd3QQTfiMQb0ZJ5Xe735B4C7gRcW3iEFLh6HXRFKDQddYRfgafYpBfP0u55zgZkHp+0e5U9+HQes8SibrzIdBUe2lXyEXjUEjIr5yB+2IQSZ1x3YWB4ZBoWz3sr1CiEFaPjy5KsGFQWr7eQbm5IdBI9tpGOCuhEHxXanCxcaLQZNwNjWTAoVBGsA2O6RphEGaSXwnpxSEQTPkhHXaBohBvRkfolLohEHH22UyFCWJQampeEwNxodB",
          "dtype": "f8"
         }
        }
       ],
       "layout": {
        "font": {
         "family": "Clear Sans",
         "size": 22
        },
        "height": 450,
        "legend": {
         "orientation": "h",
         "x": 0.5,
         "xanchor": "center",
         "y": 1.15
        },
        "margin": {
         "b": 10,
         "l": 10,
         "r": 10,
         "t": 10
        },
        "template": {
         "data": {
          "bar": [
           {
            "error_x": {
             "color": "rgb(36,36,36)"
            },
            "error_y": {
             "color": "rgb(36,36,36)"
            },
            "marker": {
             "line": {
              "color": "white",
              "width": 0.5
             },
             "pattern": {
              "fillmode": "overlay",
              "size": 10,
              "solidity": 0.2
             }
            },
            "type": "bar"
           }
          ],
          "barpolar": [
           {
            "marker": {
             "line": {
              "color": "white",
              "width": 0.5
             },
             "pattern": {
              "fillmode": "overlay",
              "size": 10,
              "solidity": 0.2
             }
            },
            "type": "barpolar"
           }
          ],
          "carpet": [
           {
            "aaxis": {
             "endlinecolor": "rgb(36,36,36)",
             "gridcolor": "white",
             "linecolor": "white",
             "minorgridcolor": "white",
             "startlinecolor": "rgb(36,36,36)"
            },
            "baxis": {
             "endlinecolor": "rgb(36,36,36)",
             "gridcolor": "white",
             "linecolor": "white",
             "minorgridcolor": "white",
             "startlinecolor": "rgb(36,36,36)"
            },
            "type": "carpet"
           }
          ],
          "choropleth": [
           {
            "colorbar": {
             "outlinewidth": 1,
             "tickcolor": "rgb(36,36,36)",
             "ticks": "outside"
            },
            "type": "choropleth"
           }
          ],
          "contour": [
           {
            "colorbar": {
             "outlinewidth": 1,
             "tickcolor": "rgb(36,36,36)",
             "ticks": "outside"
            },
            "colorscale": [
             [
              0,
              "#440154"
             ],
             [
              0.1111111111111111,
              "#482878"
             ],
             [
              0.2222222222222222,
              "#3e4989"
             ],
             [
              0.3333333333333333,
              "#31688e"
             ],
             [
              0.4444444444444444,
              "#26828e"
             ],
             [
              0.5555555555555556,
              "#1f9e89"
             ],
             [
              0.6666666666666666,
              "#35b779"
             ],
             [
              0.7777777777777778,
              "#6ece58"
             ],
             [
              0.8888888888888888,
              "#b5de2b"
             ],
             [
              1,
              "#fde725"
             ]
            ],
            "type": "contour"
           }
          ],
          "contourcarpet": [
           {
            "colorbar": {
             "outlinewidth": 1,
             "tickcolor": "rgb(36,36,36)",
             "ticks": "outside"
            },
            "type": "contourcarpet"
           }
          ],
          "heatmap": [
           {
            "colorbar": {
             "outlinewidth": 1,
             "tickcolor": "rgb(36,36,36)",
             "ticks": "outside"
            },
            "colorscale": [
             [
              0,
              "#440154"
             ],
             [
              0.1111111111111111,
              "#482878"
             ],
             [
              0.2222222222222222,
              "#3e4989"
             ],
             [
              0.3333333333333333,
              "#31688e"
             ],
             [
              0.4444444444444444,
              "#26828e"
             ],
             [
              0.5555555555555556,
              "#1f9e89"
             ],
             [
              0.6666666666666666,
              "#35b779"
             ],
             [
              0.7777777777777778,
              "#6ece58"
             ],
             [
              0.8888888888888888,
              "#b5de2b"
             ],
             [
              1,
              "#fde725"
             ]
            ],
            "type": "heatmap"
           }
          ],
          "histogram": [
           {
            "marker": {
             "line": {
              "color": "white",
              "width": 0.6
             }
            },
            "type": "histogram"
           }
          ],
          "histogram2d": [
           {
            "colorbar": {
             "outlinewidth": 1,
             "tickcolor": "rgb(36,36,36)",
             "ticks": "outside"
            },
            "colorscale": [
             [
              0,
              "#440154"
             ],
             [
              0.1111111111111111,
              "#482878"
             ],
             [
              0.2222222222222222,
              "#3e4989"
             ],
             [
              0.3333333333333333,
              "#31688e"
             ],
             [
              0.4444444444444444,
              "#26828e"
             ],
             [
              0.5555555555555556,
              "#1f9e89"
             ],
             [
              0.6666666666666666,
              "#35b779"
             ],
             [
              0.7777777777777778,
              "#6ece58"
             ],
             [
              0.8888888888888888,
              "#b5de2b"
             ],
             [
              1,
              "#fde725"
             ]
            ],
            "type": "histogram2d"
           }
          ],
          "histogram2dcontour": [
           {
            "colorbar": {
             "outlinewidth": 1,
             "tickcolor": "rgb(36,36,36)",
             "ticks": "outside"
            },
            "colorscale": [
             [
              0,
              "#440154"
             ],
             [
              0.1111111111111111,
              "#482878"
             ],
             [
              0.2222222222222222,
              "#3e4989"
             ],
             [
              0.3333333333333333,
              "#31688e"
             ],
             [
              0.4444444444444444,
              "#26828e"
             ],
             [
              0.5555555555555556,
              "#1f9e89"
             ],
             [
              0.6666666666666666,
              "#35b779"
             ],
             [
              0.7777777777777778,
              "#6ece58"
             ],
             [
              0.8888888888888888,
              "#b5de2b"
             ],
             [
              1,
              "#fde725"
             ]
            ],
            "type": "histogram2dcontour"
           }
          ],
          "mesh3d": [
           {
            "colorbar": {
             "outlinewidth": 1,
             "tickcolor": "rgb(36,36,36)",
             "ticks": "outside"
            },
            "type": "mesh3d"
           }
          ],
          "parcoords": [
           {
            "line": {
             "colorbar": {
              "outlinewidth": 1,
              "tickcolor": "rgb(36,36,36)",
              "ticks": "outside"
             }
            },
            "type": "parcoords"
           }
          ],
          "pie": [
           {
            "automargin": true,
            "type": "pie"
           }
          ],
          "scatter": [
           {
            "fillpattern": {
             "fillmode": "overlay",
             "size": 10,
             "solidity": 0.2
            },
            "type": "scatter"
           }
          ],
          "scatter3d": [
           {
            "line": {
             "colorbar": {
              "outlinewidth": 1,
              "tickcolor": "rgb(36,36,36)",
              "ticks": "outside"
             }
            },
            "marker": {
             "colorbar": {
              "outlinewidth": 1,
              "tickcolor": "rgb(36,36,36)",
              "ticks": "outside"
             }
            },
            "type": "scatter3d"
           }
          ],
          "scattercarpet": [
           {
            "marker": {
             "colorbar": {
              "outlinewidth": 1,
              "tickcolor": "rgb(36,36,36)",
              "ticks": "outside"
             }
            },
            "type": "scattercarpet"
           }
          ],
          "scattergeo": [
           {
            "marker": {
             "colorbar": {
              "outlinewidth": 1,
              "tickcolor": "rgb(36,36,36)",
              "ticks": "outside"
             }
            },
            "type": "scattergeo"
           }
          ],
          "scattergl": [
           {
            "marker": {
             "colorbar": {
              "outlinewidth": 1,
              "tickcolor": "rgb(36,36,36)",
              "ticks": "outside"
             }
            },
            "type": "scattergl"
           }
          ],
          "scattermap": [
           {
            "marker": {
             "colorbar": {
              "outlinewidth": 1,
              "tickcolor": "rgb(36,36,36)",
              "ticks": "outside"
             }
            },
            "type": "scattermap"
           }
          ],
          "scattermapbox": [
           {
            "marker": {
             "colorbar": {
              "outlinewidth": 1,
              "tickcolor": "rgb(36,36,36)",
              "ticks": "outside"
             }
            },
            "type": "scattermapbox"
           }
          ],
          "scatterpolar": [
           {
            "marker": {
             "colorbar": {
              "outlinewidth": 1,
              "tickcolor": "rgb(36,36,36)",
              "ticks": "outside"
             }
            },
            "type": "scatterpolar"
           }
          ],
          "scatterpolargl": [
           {
            "marker": {
             "colorbar": {
              "outlinewidth": 1,
              "tickcolor": "rgb(36,36,36)",
              "ticks": "outside"
             }
            },
            "type": "scatterpolargl"
           }
          ],
          "scatterternary": [
           {
            "marker": {
             "colorbar": {
              "outlinewidth": 1,
              "tickcolor": "rgb(36,36,36)",
              "ticks": "outside"
             }
            },
            "type": "scatterternary"
           }
          ],
          "surface": [
           {
            "colorbar": {
             "outlinewidth": 1,
             "tickcolor": "rgb(36,36,36)",
             "ticks": "outside"
            },
            "colorscale": [
             [
              0,
              "#440154"
             ],
             [
              0.1111111111111111,
              "#482878"
             ],
             [
              0.2222222222222222,
              "#3e4989"
             ],
             [
              0.3333333333333333,
              "#31688e"
             ],
             [
              0.4444444444444444,
              "#26828e"
             ],
             [
              0.5555555555555556,
              "#1f9e89"
             ],
             [
              0.6666666666666666,
              "#35b779"
             ],
             [
              0.7777777777777778,
              "#6ece58"
             ],
             [
              0.8888888888888888,
              "#b5de2b"
             ],
             [
              1,
              "#fde725"
             ]
            ],
            "type": "surface"
           }
          ],
          "table": [
           {
            "cells": {
             "fill": {
              "color": "rgb(237,237,237)"
             },
             "line": {
              "color": "white"
             }
            },
            "header": {
             "fill": {
              "color": "rgb(217,217,217)"
             },
             "line": {
              "color": "white"
             }
            },
            "type": "table"
           }
          ]
         },
         "layout": {
          "annotationdefaults": {
           "arrowhead": 0,
           "arrowwidth": 1
          },
          "autotypenumbers": "strict",
          "coloraxis": {
           "colorbar": {
            "outlinewidth": 1,
            "tickcolor": "rgb(36,36,36)",
            "ticks": "outside"
           }
          },
          "colorscale": {
           "diverging": [
            [
             0,
             "rgb(103,0,31)"
            ],
            [
             0.1,
             "rgb(178,24,43)"
            ],
            [
             0.2,
             "rgb(214,96,77)"
            ],
            [
             0.3,
             "rgb(244,165,130)"
            ],
            [
             0.4,
             "rgb(253,219,199)"
            ],
            [
             0.5,
             "rgb(247,247,247)"
            ],
            [
             0.6,
             "rgb(209,229,240)"
            ],
            [
             0.7,
             "rgb(146,197,222)"
            ],
            [
             0.8,
             "rgb(67,147,195)"
            ],
            [
             0.9,
             "rgb(33,102,172)"
            ],
            [
             1,
             "rgb(5,48,97)"
            ]
           ],
           "sequential": [
            [
             0,
             "#440154"
            ],
            [
             0.1111111111111111,
             "#482878"
            ],
            [
             0.2222222222222222,
             "#3e4989"
            ],
            [
             0.3333333333333333,
             "#31688e"
            ],
            [
             0.4444444444444444,
             "#26828e"
            ],
            [
             0.5555555555555556,
             "#1f9e89"
            ],
            [
             0.6666666666666666,
             "#35b779"
            ],
            [
             0.7777777777777778,
             "#6ece58"
            ],
            [
             0.8888888888888888,
             "#b5de2b"
            ],
            [
             1,
             "#fde725"
            ]
           ],
           "sequentialminus": [
            [
             0,
             "#440154"
            ],
            [
             0.1111111111111111,
             "#482878"
            ],
            [
             0.2222222222222222,
             "#3e4989"
            ],
            [
             0.3333333333333333,
             "#31688e"
            ],
            [
             0.4444444444444444,
             "#26828e"
            ],
            [
             0.5555555555555556,
             "#1f9e89"
            ],
            [
             0.6666666666666666,
             "#35b779"
            ],
            [
             0.7777777777777778,
             "#6ece58"
            ],
            [
             0.8888888888888888,
             "#b5de2b"
            ],
            [
             1,
             "#fde725"
            ]
           ]
          },
          "colorway": [
           "#1F77B4",
           "#FF7F0E",
           "#2CA02C",
           "#D62728",
           "#9467BD",
           "#8C564B",
           "#E377C2",
           "#7F7F7F",
           "#BCBD22",
           "#17BECF"
          ],
          "font": {
           "color": "rgb(36,36,36)"
          },
          "geo": {
           "bgcolor": "white",
           "lakecolor": "white",
           "landcolor": "white",
           "showlakes": true,
           "showland": true,
           "subunitcolor": "white"
          },
          "hoverlabel": {
           "align": "left"
          },
          "hovermode": "closest",
          "mapbox": {
           "style": "light"
          },
          "paper_bgcolor": "white",
          "plot_bgcolor": "white",
          "polar": {
           "angularaxis": {
            "gridcolor": "rgb(232,232,232)",
            "linecolor": "rgb(36,36,36)",
            "showgrid": false,
            "showline": true,
            "ticks": "outside"
           },
           "bgcolor": "white",
           "radialaxis": {
            "gridcolor": "rgb(232,232,232)",
            "linecolor": "rgb(36,36,36)",
            "showgrid": false,
            "showline": true,
            "ticks": "outside"
           }
          },
          "scene": {
           "xaxis": {
            "backgroundcolor": "white",
            "gridcolor": "rgb(232,232,232)",
            "gridwidth": 2,
            "linecolor": "rgb(36,36,36)",
            "showbackground": true,
            "showgrid": false,
            "showline": true,
            "ticks": "outside",
            "zeroline": false,
            "zerolinecolor": "rgb(36,36,36)"
           },
           "yaxis": {
            "backgroundcolor": "white",
            "gridcolor": "rgb(232,232,232)",
            "gridwidth": 2,
            "linecolor": "rgb(36,36,36)",
            "showbackground": true,
            "showgrid": false,
            "showline": true,
            "ticks": "outside",
            "zeroline": false,
            "zerolinecolor": "rgb(36,36,36)"
           },
           "zaxis": {
            "backgroundcolor": "white",
            "gridcolor": "rgb(232,232,232)",
            "gridwidth": 2,
            "linecolor": "rgb(36,36,36)",
            "showbackground": true,
            "showgrid": false,
            "showline": true,
            "ticks": "outside",
            "zeroline": false,
            "zerolinecolor": "rgb(36,36,36)"
           }
          },
          "shapedefaults": {
           "fillcolor": "black",
           "line": {
            "width": 0
           },
           "opacity": 0.3
          },
          "ternary": {
           "aaxis": {
            "gridcolor": "rgb(232,232,232)",
            "linecolor": "rgb(36,36,36)",
            "showgrid": false,
            "showline": true,
            "ticks": "outside"
           },
           "baxis": {
            "gridcolor": "rgb(232,232,232)",
            "linecolor": "rgb(36,36,36)",
            "showgrid": false,
            "showline": true,
            "ticks": "outside"
           },
           "bgcolor": "white",
           "caxis": {
            "gridcolor": "rgb(232,232,232)",
            "linecolor": "rgb(36,36,36)",
            "showgrid": false,
            "showline": true,
            "ticks": "outside"
           }
          },
          "title": {
           "x": 0.05
          },
          "xaxis": {
           "automargin": true,
           "gridcolor": "rgb(232,232,232)",
           "linecolor": "rgb(36,36,36)",
           "showgrid": false,
           "showline": true,
           "ticks": "outside",
           "title": {
            "standoff": 15
           },
           "zeroline": false,
           "zerolinecolor": "rgb(36,36,36)"
          },
          "yaxis": {
           "automargin": true,
           "gridcolor": "rgb(232,232,232)",
           "linecolor": "rgb(36,36,36)",
           "showgrid": false,
           "showline": true,
           "ticks": "outside",
           "title": {
            "standoff": 15
           },
           "zeroline": false,
           "zerolinecolor": "rgb(36,36,36)"
          }
         }
        },
        "width": 850,
        "xaxis": {
         "dtick": 20,
         "griddash": "dash",
         "minor": {
          "griddash": "dot",
          "ticks": "inside"
         },
         "showgrid": true,
         "tick0": 0,
         "tickmode": "linear",
         "title": {
          "text": "Proposal ID"
         }
        },
        "yaxis": {
         "griddash": "dash",
         "minor": {
          "griddash": "dot",
          "ticks": "inside"
         },
         "showgrid": true,
         "title": {
          "text": "Total number of votes"
         },
         "type": "log"
        }
       }
      }
     },
     "metadata": {},
     "output_type": "display_data"
    }
   ],
   "source": [
    "# Plot showing the distribution of COMP tokens held by voters during a voting period\n",
    "fig = go.Figure(layout=get_plotly_layout(width=width, height=height))\n",
    "\n",
    "print(\"Compound\")\n",
    "display(dfs['compound']['votes'].votes.describe().to_frame().T)\n",
    "\n",
    "min_votes = 1e-3\n",
    "proposals_ids = dfs['compound']['proposals_defeated'].proposalId\n",
    "data = dfs['compound']['votes'].query(\n",
    "    \"(proposalId not in @proposals_ids) and (votes >= @min_votes)\"\n",
    ").groupby('proposalId').agg({'votes': ['mean', 'median', 'sum']})\n",
    "\n",
    "fig.add_trace(go.Scatter(x=data.index, y=data[('votes', 'sum')], line=dict(\n",
    "    color=colors['blue'], width=2), mode='markers', name='Compound'))\n",
    "\n",
    "print(\"Uniswap\")\n",
    "display(dfs['uniswap']['votes'].votes.describe().to_frame().T)\n",
    "\n",
    "min_votes = 1e-3\n",
    "proposals_ids = dfs['uniswap']['proposals_defeated'].proposalId\n",
    "data = dfs['uniswap']['votes'].query(\n",
    "    \"(proposalId not in @proposals_ids) and (votes >= @min_votes)\"\n",
    ").groupby('proposalId').agg({'votes': ['mean', 'median', 'sum']})\n",
    "\n",
    "fig.add_trace(go.Scatter(x=data.index, y=data[('votes', 'sum')], line=dict(\n",
    "    color=colors['red'], width=2), mode='markers', name='Uniswap'))\n",
    "\n",
    "fig.update_layout(yaxis_title=\"Total number of votes\", xaxis_title=\"Proposal ID\",\n",
    "                  xaxis=dict(tickmode='linear', tick0=0, dtick=20),\n",
    "                  legend=dict(xanchor='center', x=0.5, y=1.15, orientation='h'))\n",
    "\n",
    "fig.update_yaxes(type=\"log\")\n",
    "\n",
    "file_dir = os.path.join(\n",
    "    plots_dir, \"distribution_of_voting_power_by_voter_per_proposal_sum.pdf\")\n",
    "fig.write_image(file_dir, width=width, height=height, scale=1)\n",
    "\n",
    "fig.show(plot_style)"
   ]
  },
  {
   "cell_type": "markdown",
   "metadata": {},
   "source": [
    "### Proposal Lifecycle\n"
   ]
  },
  {
   "cell_type": "code",
   "execution_count": 15,
   "metadata": {},
   "outputs": [
    {
     "data": {
      "application/vnd.plotly.v1+json": {
       "config": {
        "plotlyServerURL": "https://plot.ly"
       },
       "data": [
        {
         "fillcolor": "#ffffff",
         "line": {
          "width": 1.5
         },
         "marker": {
          "color": "#42bbf1"
         },
         "name": "Compound",
         "quartilemethod": "exclusive",
         "type": "box",
         "whiskerwidth": 0.5,
         "x": [
          "executed",
          "executed",
          "executed",
          "executed",
          "executed",
          "executed",
          "executed",
          "executed",
          "executed",
          "executed",
          "executed",
          "defeated",
          "defeated",
          "executed",
          "executed",
          "executed",
          "executed",
          "executed",
          "executed",
          "executed",
          "executed",
          "executed",
          "executed",
          "executed",
          "executed",
          "executed",
          "executed",
          "executed",
          "executed",
          "defeated",
          "executed",
          "executed",
          "executed",
          "executed",
          "executed",
          "defeated",
          "executed",
          "executed",
          "executed",
          "executed",
          "executed",
          "executed",
          "executed",
          "executed",
          "executed",
          "executed",
          "executed",
          "executed",
          "executed",
          "executed",
          "executed",
          "executed",
          "executed",
          "executed",
          "executed",
          "executed",
          "executed",
          "executed",
          "executed",
          "executed",
          "executed",
          "defeated",
          "executed",
          "executed",
          "defeated",
          "executed",
          "executed",
          "executed",
          "executed",
          "defeated",
          "executed",
          "defeated",
          "defeated",
          "defeated",
          "executed",
          "executed",
          "executed",
          "defeated",
          "executed",
          "defeated",
          "executed",
          "executed",
          "executed",
          "executed",
          "executed",
          "executed",
          "executed",
          "defeated",
          "executed",
          "executed",
          "executed",
          "executed",
          "executed",
          "executed",
          "executed",
          "defeated",
          "executed",
          "executed",
          "executed",
          "executed",
          "executed",
          "executed",
          "executed",
          "executed",
          "executed",
          "executed",
          "executed",
          "executed",
          "executed",
          "defeated",
          "executed",
          "executed",
          "executed",
          "executed",
          "executed",
          "executed",
          "executed",
          "executed",
          "executed",
          "executed",
          "executed",
          "executed",
          "executed",
          "defeated",
          "executed",
          "executed",
          "executed",
          "executed",
          "executed",
          "defeated",
          "executed",
          "executed",
          "executed",
          "executed",
          "executed",
          "executed",
          "executed",
          "executed",
          "defeated",
          "executed",
          "executed",
          "executed",
          "executed",
          "executed",
          "executed",
          "executed",
          "defeated",
          "executed",
          "executed",
          "executed",
          "executed",
          "executed",
          "executed",
          "executed",
          "executed",
          "executed",
          "executed",
          "executed",
          "defeated",
          "executed",
          "executed",
          "executed",
          "executed",
          "executed",
          "executed",
          "executed",
          "executed",
          "executed",
          "executed",
          "defeated",
          "executed",
          "executed",
          "executed",
          "executed",
          "defeated",
          "executed",
          "executed",
          "executed",
          "executed",
          "executed",
          "defeated",
          "executed",
          "executed",
          "executed",
          "executed",
          "executed",
          "defeated",
          "defeated",
          "executed",
          "executed",
          "executed",
          "executed",
          "executed",
          "executed",
          "executed",
          "executed",
          "executed",
          "executed",
          "executed",
          "defeated",
          "executed",
          "executed",
          "executed",
          "executed",
          "executed",
          "defeated",
          "executed",
          "executed",
          "executed",
          "defeated",
          "executed",
          "executed",
          "executed",
          "executed",
          "executed",
          "executed",
          "defeated",
          "executed",
          "executed",
          "executed",
          "executed",
          "executed",
          "defeated",
          "executed",
          "executed",
          "executed",
          "executed",
          "defeated",
          "executed",
          "executed",
          "executed",
          "defeated",
          "executed",
          "executed",
          "executed",
          "executed",
          "executed",
          "executed",
          "executed",
          "executed",
          "defeated",
          "defeated",
          "executed",
          "executed",
          "defeated",
          "executed",
          "executed",
          "executed",
          "executed",
          "executed",
          "executed",
          "executed",
          "defeated",
          "executed",
          "executed",
          "executed",
          "executed",
          "executed",
          "executed",
          "executed",
          "executed",
          "executed",
          "executed",
          "executed",
          "executed",
          "executed",
          "executed",
          "executed",
          "executed",
          "executed",
          "executed",
          "executed",
          "executed",
          "executed",
          "executed",
          "executed",
          "executed"
         ],
         "y": {
          "bdata": "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",
          "dtype": "f8"
         }
        },
        {
         "fillcolor": "#ffffff",
         "line": {
          "width": 1.5
         },
         "marker": {
          "color": "#ee443a"
         },
         "name": "Uniswap",
         "quartilemethod": "exclusive",
         "type": "box",
         "whiskerwidth": 0.5,
         "x": [
          "defeated",
          "defeated",
          "defeated",
          "defeated",
          "defeated",
          "defeated",
          "defeated",
          "defeated",
          "executed",
          "executed",
          "executed",
          "executed",
          "executed",
          "executed",
          "executed",
          "executed",
          "executed",
          "executed",
          "executed",
          "executed",
          "executed",
          "executed",
          "executed",
          "executed",
          "executed",
          "executed",
          "executed",
          "executed",
          "executed",
          "executed",
          "executed",
          "executed",
          "executed",
          "executed",
          "executed",
          "defeated",
          "executed",
          "executed",
          "executed",
          "executed",
          "executed",
          "executed",
          "executed",
          "executed",
          "executed",
          "executed",
          "executed",
          "executed",
          "executed",
          "executed",
          "executed",
          "executed",
          "defeated"
         ],
         "y": {
          "bdata": "AAAAAAAAAAAAAAAAAAAAAAAAAAAAAAAAAAAAAAAAAAAAAAAAAAAAAAAAAAAAAAAAAAAAAAAAAAAAAAAAAAAAAAAAAAAAAFlAV1VVVVVVVkAjs0WtxpdYQIaW9Ql8lFhAAAAAAAAAWUB6AeWEwOlYQMElrPJ3yFhAPGPZO2PZWEAhDdIgDYpYQBTaS2gvoVhAlWldFv3LWECaOoZxI7JYQNe622kboVhA12rE/qxVV0CDGYTH7TNMQCUjf9iQl1hAsHdMDewdV0DyLd/yLd9YQDmCSOsFbFhANBCVjuwZV0D8CO4juI9YQDfBeCv7HFdAaaWVVlppV0DbT5bApv1XQCtel8mRQVJAKKLiTSaEUkCAokfuOG9UQK+hvIbyOlRADg2uEIljV0CDmFxBTAZWQHRITTDeSlhANHs28Gg3V0Cql5FYDRdVQM2OWoT8NVZA0l3GlK/DU0AnZY4BDn5WQHQX/FWckFVAi0RuCicHWED/8tkx58BXQAtIx1ImwVZAUbe1ua9IV0AMWchCFhJSQLyjkQ3jX1JAGF100UUXUUBMR/YMRKVPQA==",
          "dtype": "f8"
         }
        }
       ],
       "layout": {
        "boxmode": "group",
        "font": {
         "family": "Clear Sans",
         "size": 22
        },
        "height": 450,
        "legend": {
         "orientation": "h",
         "x": 0.5,
         "xanchor": "center",
         "y": 1.15
        },
        "margin": {
         "b": 10,
         "l": 10,
         "r": 10,
         "t": 10
        },
        "template": {
         "data": {
          "bar": [
           {
            "error_x": {
             "color": "rgb(36,36,36)"
            },
            "error_y": {
             "color": "rgb(36,36,36)"
            },
            "marker": {
             "line": {
              "color": "white",
              "width": 0.5
             },
             "pattern": {
              "fillmode": "overlay",
              "size": 10,
              "solidity": 0.2
             }
            },
            "type": "bar"
           }
          ],
          "barpolar": [
           {
            "marker": {
             "line": {
              "color": "white",
              "width": 0.5
             },
             "pattern": {
              "fillmode": "overlay",
              "size": 10,
              "solidity": 0.2
             }
            },
            "type": "barpolar"
           }
          ],
          "carpet": [
           {
            "aaxis": {
             "endlinecolor": "rgb(36,36,36)",
             "gridcolor": "white",
             "linecolor": "white",
             "minorgridcolor": "white",
             "startlinecolor": "rgb(36,36,36)"
            },
            "baxis": {
             "endlinecolor": "rgb(36,36,36)",
             "gridcolor": "white",
             "linecolor": "white",
             "minorgridcolor": "white",
             "startlinecolor": "rgb(36,36,36)"
            },
            "type": "carpet"
           }
          ],
          "choropleth": [
           {
            "colorbar": {
             "outlinewidth": 1,
             "tickcolor": "rgb(36,36,36)",
             "ticks": "outside"
            },
            "type": "choropleth"
           }
          ],
          "contour": [
           {
            "colorbar": {
             "outlinewidth": 1,
             "tickcolor": "rgb(36,36,36)",
             "ticks": "outside"
            },
            "colorscale": [
             [
              0,
              "#440154"
             ],
             [
              0.1111111111111111,
              "#482878"
             ],
             [
              0.2222222222222222,
              "#3e4989"
             ],
             [
              0.3333333333333333,
              "#31688e"
             ],
             [
              0.4444444444444444,
              "#26828e"
             ],
             [
              0.5555555555555556,
              "#1f9e89"
             ],
             [
              0.6666666666666666,
              "#35b779"
             ],
             [
              0.7777777777777778,
              "#6ece58"
             ],
             [
              0.8888888888888888,
              "#b5de2b"
             ],
             [
              1,
              "#fde725"
             ]
            ],
            "type": "contour"
           }
          ],
          "contourcarpet": [
           {
            "colorbar": {
             "outlinewidth": 1,
             "tickcolor": "rgb(36,36,36)",
             "ticks": "outside"
            },
            "type": "contourcarpet"
           }
          ],
          "heatmap": [
           {
            "colorbar": {
             "outlinewidth": 1,
             "tickcolor": "rgb(36,36,36)",
             "ticks": "outside"
            },
            "colorscale": [
             [
              0,
              "#440154"
             ],
             [
              0.1111111111111111,
              "#482878"
             ],
             [
              0.2222222222222222,
              "#3e4989"
             ],
             [
              0.3333333333333333,
              "#31688e"
             ],
             [
              0.4444444444444444,
              "#26828e"
             ],
             [
              0.5555555555555556,
              "#1f9e89"
             ],
             [
              0.6666666666666666,
              "#35b779"
             ],
             [
              0.7777777777777778,
              "#6ece58"
             ],
             [
              0.8888888888888888,
              "#b5de2b"
             ],
             [
              1,
              "#fde725"
             ]
            ],
            "type": "heatmap"
           }
          ],
          "histogram": [
           {
            "marker": {
             "line": {
              "color": "white",
              "width": 0.6
             }
            },
            "type": "histogram"
           }
          ],
          "histogram2d": [
           {
            "colorbar": {
             "outlinewidth": 1,
             "tickcolor": "rgb(36,36,36)",
             "ticks": "outside"
            },
            "colorscale": [
             [
              0,
              "#440154"
             ],
             [
              0.1111111111111111,
              "#482878"
             ],
             [
              0.2222222222222222,
              "#3e4989"
             ],
             [
              0.3333333333333333,
              "#31688e"
             ],
             [
              0.4444444444444444,
              "#26828e"
             ],
             [
              0.5555555555555556,
              "#1f9e89"
             ],
             [
              0.6666666666666666,
              "#35b779"
             ],
             [
              0.7777777777777778,
              "#6ece58"
             ],
             [
              0.8888888888888888,
              "#b5de2b"
             ],
             [
              1,
              "#fde725"
             ]
            ],
            "type": "histogram2d"
           }
          ],
          "histogram2dcontour": [
           {
            "colorbar": {
             "outlinewidth": 1,
             "tickcolor": "rgb(36,36,36)",
             "ticks": "outside"
            },
            "colorscale": [
             [
              0,
              "#440154"
             ],
             [
              0.1111111111111111,
              "#482878"
             ],
             [
              0.2222222222222222,
              "#3e4989"
             ],
             [
              0.3333333333333333,
              "#31688e"
             ],
             [
              0.4444444444444444,
              "#26828e"
             ],
             [
              0.5555555555555556,
              "#1f9e89"
             ],
             [
              0.6666666666666666,
              "#35b779"
             ],
             [
              0.7777777777777778,
              "#6ece58"
             ],
             [
              0.8888888888888888,
              "#b5de2b"
             ],
             [
              1,
              "#fde725"
             ]
            ],
            "type": "histogram2dcontour"
           }
          ],
          "mesh3d": [
           {
            "colorbar": {
             "outlinewidth": 1,
             "tickcolor": "rgb(36,36,36)",
             "ticks": "outside"
            },
            "type": "mesh3d"
           }
          ],
          "parcoords": [
           {
            "line": {
             "colorbar": {
              "outlinewidth": 1,
              "tickcolor": "rgb(36,36,36)",
              "ticks": "outside"
             }
            },
            "type": "parcoords"
           }
          ],
          "pie": [
           {
            "automargin": true,
            "type": "pie"
           }
          ],
          "scatter": [
           {
            "fillpattern": {
             "fillmode": "overlay",
             "size": 10,
             "solidity": 0.2
            },
            "type": "scatter"
           }
          ],
          "scatter3d": [
           {
            "line": {
             "colorbar": {
              "outlinewidth": 1,
              "tickcolor": "rgb(36,36,36)",
              "ticks": "outside"
             }
            },
            "marker": {
             "colorbar": {
              "outlinewidth": 1,
              "tickcolor": "rgb(36,36,36)",
              "ticks": "outside"
             }
            },
            "type": "scatter3d"
           }
          ],
          "scattercarpet": [
           {
            "marker": {
             "colorbar": {
              "outlinewidth": 1,
              "tickcolor": "rgb(36,36,36)",
              "ticks": "outside"
             }
            },
            "type": "scattercarpet"
           }
          ],
          "scattergeo": [
           {
            "marker": {
             "colorbar": {
              "outlinewidth": 1,
              "tickcolor": "rgb(36,36,36)",
              "ticks": "outside"
             }
            },
            "type": "scattergeo"
           }
          ],
          "scattergl": [
           {
            "marker": {
             "colorbar": {
              "outlinewidth": 1,
              "tickcolor": "rgb(36,36,36)",
              "ticks": "outside"
             }
            },
            "type": "scattergl"
           }
          ],
          "scattermap": [
           {
            "marker": {
             "colorbar": {
              "outlinewidth": 1,
              "tickcolor": "rgb(36,36,36)",
              "ticks": "outside"
             }
            },
            "type": "scattermap"
           }
          ],
          "scattermapbox": [
           {
            "marker": {
             "colorbar": {
              "outlinewidth": 1,
              "tickcolor": "rgb(36,36,36)",
              "ticks": "outside"
             }
            },
            "type": "scattermapbox"
           }
          ],
          "scatterpolar": [
           {
            "marker": {
             "colorbar": {
              "outlinewidth": 1,
              "tickcolor": "rgb(36,36,36)",
              "ticks": "outside"
             }
            },
            "type": "scatterpolar"
           }
          ],
          "scatterpolargl": [
           {
            "marker": {
             "colorbar": {
              "outlinewidth": 1,
              "tickcolor": "rgb(36,36,36)",
              "ticks": "outside"
             }
            },
            "type": "scatterpolargl"
           }
          ],
          "scatterternary": [
           {
            "marker": {
             "colorbar": {
              "outlinewidth": 1,
              "tickcolor": "rgb(36,36,36)",
              "ticks": "outside"
             }
            },
            "type": "scatterternary"
           }
          ],
          "surface": [
           {
            "colorbar": {
             "outlinewidth": 1,
             "tickcolor": "rgb(36,36,36)",
             "ticks": "outside"
            },
            "colorscale": [
             [
              0,
              "#440154"
             ],
             [
              0.1111111111111111,
              "#482878"
             ],
             [
              0.2222222222222222,
              "#3e4989"
             ],
             [
              0.3333333333333333,
              "#31688e"
             ],
             [
              0.4444444444444444,
              "#26828e"
             ],
             [
              0.5555555555555556,
              "#1f9e89"
             ],
             [
              0.6666666666666666,
              "#35b779"
             ],
             [
              0.7777777777777778,
              "#6ece58"
             ],
             [
              0.8888888888888888,
              "#b5de2b"
             ],
             [
              1,
              "#fde725"
             ]
            ],
            "type": "surface"
           }
          ],
          "table": [
           {
            "cells": {
             "fill": {
              "color": "rgb(237,237,237)"
             },
             "line": {
              "color": "white"
             }
            },
            "header": {
             "fill": {
              "color": "rgb(217,217,217)"
             },
             "line": {
              "color": "white"
             }
            },
            "type": "table"
           }
          ]
         },
         "layout": {
          "annotationdefaults": {
           "arrowhead": 0,
           "arrowwidth": 1
          },
          "autotypenumbers": "strict",
          "coloraxis": {
           "colorbar": {
            "outlinewidth": 1,
            "tickcolor": "rgb(36,36,36)",
            "ticks": "outside"
           }
          },
          "colorscale": {
           "diverging": [
            [
             0,
             "rgb(103,0,31)"
            ],
            [
             0.1,
             "rgb(178,24,43)"
            ],
            [
             0.2,
             "rgb(214,96,77)"
            ],
            [
             0.3,
             "rgb(244,165,130)"
            ],
            [
             0.4,
             "rgb(253,219,199)"
            ],
            [
             0.5,
             "rgb(247,247,247)"
            ],
            [
             0.6,
             "rgb(209,229,240)"
            ],
            [
             0.7,
             "rgb(146,197,222)"
            ],
            [
             0.8,
             "rgb(67,147,195)"
            ],
            [
             0.9,
             "rgb(33,102,172)"
            ],
            [
             1,
             "rgb(5,48,97)"
            ]
           ],
           "sequential": [
            [
             0,
             "#440154"
            ],
            [
             0.1111111111111111,
             "#482878"
            ],
            [
             0.2222222222222222,
             "#3e4989"
            ],
            [
             0.3333333333333333,
             "#31688e"
            ],
            [
             0.4444444444444444,
             "#26828e"
            ],
            [
             0.5555555555555556,
             "#1f9e89"
            ],
            [
             0.6666666666666666,
             "#35b779"
            ],
            [
             0.7777777777777778,
             "#6ece58"
            ],
            [
             0.8888888888888888,
             "#b5de2b"
            ],
            [
             1,
             "#fde725"
            ]
           ],
           "sequentialminus": [
            [
             0,
             "#440154"
            ],
            [
             0.1111111111111111,
             "#482878"
            ],
            [
             0.2222222222222222,
             "#3e4989"
            ],
            [
             0.3333333333333333,
             "#31688e"
            ],
            [
             0.4444444444444444,
             "#26828e"
            ],
            [
             0.5555555555555556,
             "#1f9e89"
            ],
            [
             0.6666666666666666,
             "#35b779"
            ],
            [
             0.7777777777777778,
             "#6ece58"
            ],
            [
             0.8888888888888888,
             "#b5de2b"
            ],
            [
             1,
             "#fde725"
            ]
           ]
          },
          "colorway": [
           "#1F77B4",
           "#FF7F0E",
           "#2CA02C",
           "#D62728",
           "#9467BD",
           "#8C564B",
           "#E377C2",
           "#7F7F7F",
           "#BCBD22",
           "#17BECF"
          ],
          "font": {
           "color": "rgb(36,36,36)"
          },
          "geo": {
           "bgcolor": "white",
           "lakecolor": "white",
           "landcolor": "white",
           "showlakes": true,
           "showland": true,
           "subunitcolor": "white"
          },
          "hoverlabel": {
           "align": "left"
          },
          "hovermode": "closest",
          "mapbox": {
           "style": "light"
          },
          "paper_bgcolor": "white",
          "plot_bgcolor": "white",
          "polar": {
           "angularaxis": {
            "gridcolor": "rgb(232,232,232)",
            "linecolor": "rgb(36,36,36)",
            "showgrid": false,
            "showline": true,
            "ticks": "outside"
           },
           "bgcolor": "white",
           "radialaxis": {
            "gridcolor": "rgb(232,232,232)",
            "linecolor": "rgb(36,36,36)",
            "showgrid": false,
            "showline": true,
            "ticks": "outside"
           }
          },
          "scene": {
           "xaxis": {
            "backgroundcolor": "white",
            "gridcolor": "rgb(232,232,232)",
            "gridwidth": 2,
            "linecolor": "rgb(36,36,36)",
            "showbackground": true,
            "showgrid": false,
            "showline": true,
            "ticks": "outside",
            "zeroline": false,
            "zerolinecolor": "rgb(36,36,36)"
           },
           "yaxis": {
            "backgroundcolor": "white",
            "gridcolor": "rgb(232,232,232)",
            "gridwidth": 2,
            "linecolor": "rgb(36,36,36)",
            "showbackground": true,
            "showgrid": false,
            "showline": true,
            "ticks": "outside",
            "zeroline": false,
            "zerolinecolor": "rgb(36,36,36)"
           },
           "zaxis": {
            "backgroundcolor": "white",
            "gridcolor": "rgb(232,232,232)",
            "gridwidth": 2,
            "linecolor": "rgb(36,36,36)",
            "showbackground": true,
            "showgrid": false,
            "showline": true,
            "ticks": "outside",
            "zeroline": false,
            "zerolinecolor": "rgb(36,36,36)"
           }
          },
          "shapedefaults": {
           "fillcolor": "black",
           "line": {
            "width": 0
           },
           "opacity": 0.3
          },
          "ternary": {
           "aaxis": {
            "gridcolor": "rgb(232,232,232)",
            "linecolor": "rgb(36,36,36)",
            "showgrid": false,
            "showline": true,
            "ticks": "outside"
           },
           "baxis": {
            "gridcolor": "rgb(232,232,232)",
            "linecolor": "rgb(36,36,36)",
            "showgrid": false,
            "showline": true,
            "ticks": "outside"
           },
           "bgcolor": "white",
           "caxis": {
            "gridcolor": "rgb(232,232,232)",
            "linecolor": "rgb(36,36,36)",
            "showgrid": false,
            "showline": true,
            "ticks": "outside"
           }
          },
          "title": {
           "x": 0.05
          },
          "xaxis": {
           "automargin": true,
           "gridcolor": "rgb(232,232,232)",
           "linecolor": "rgb(36,36,36)",
           "showgrid": false,
           "showline": true,
           "ticks": "outside",
           "title": {
            "standoff": 15
           },
           "zeroline": false,
           "zerolinecolor": "rgb(36,36,36)"
          },
          "yaxis": {
           "automargin": true,
           "gridcolor": "rgb(232,232,232)",
           "linecolor": "rgb(36,36,36)",
           "showgrid": false,
           "showline": true,
           "ticks": "outside",
           "title": {
            "standoff": 15
           },
           "zeroline": false,
           "zerolinecolor": "rgb(36,36,36)"
          }
         }
        },
        "width": 850,
        "xaxis": {
         "griddash": "dash",
         "minor": {
          "griddash": "dot",
          "ticks": "inside"
         },
         "showgrid": true,
         "title": {
          "text": "Proposal outcome"
         }
        },
        "yaxis": {
         "griddash": "dash",
         "minor": {
          "griddash": "dot",
          "ticks": "inside"
         },
         "showgrid": true,
         "ticksuffix": "%",
         "title": {
          "text": "Margin of victory"
         }
        }
       }
      }
     },
     "metadata": {},
     "output_type": "display_data"
    }
   ],
   "source": [
    "fig = go.Figure(layout=get_plotly_layout(width=width, height=height))\n",
    "\n",
    "data_compound = dfs['compound']['votes_weighted'].set_index('proposalId').sort_index()[\n",
    "    ['supporter_in_favor_percentage', 'supporter_against_percentage',\n",
    "        'supporter_abstain_percentage', 'status']\n",
    "]\n",
    "data_compound = data_compound.query(\n",
    "    'status == \"defeated\" or status == \"executed\"')\n",
    "data_compound['margin'] = data_compound['supporter_in_favor_percentage'] - \\\n",
    "    data_compound['supporter_against_percentage']\n",
    "data_compound.rename(columns={'supporter_in_favor_percentage': 'in-favor',\n",
    "                              'supporter_against_percentage': 'against', 'supporter_abstain_percentage': 'abstain'}, inplace=True)\n",
    "\n",
    "\n",
    "data_uniswap = dfs['uniswap']['votes_weighted'].set_index('proposalId').sort_index()[\n",
    "    ['supporter_in_favor_percentage', 'supporter_against_percentage',\n",
    "        'supporter_abstain_percentage', 'status']\n",
    "]\n",
    "data_uniswap = data_uniswap.query(\n",
    "    'status == \"defeated\" or status == \"executed\"')\n",
    "data_uniswap['margin'] = data_uniswap['supporter_in_favor_percentage'] - \\\n",
    "    data_uniswap['supporter_against_percentage']\n",
    "data_uniswap.rename(columns={'supporter_in_favor_percentage': 'in-favor',\n",
    "                             'supporter_against_percentage': 'against', 'supporter_abstain_percentage': 'abstain'}, inplace=True)\n",
    "\n",
    "fig.add_trace(go.Box(x=data_compound.status, y=data_compound['margin'],\n",
    "              name='Compound', marker_color=colors['blue'], line=dict(width=1.5), whiskerwidth=0.5, fillcolor=colors['white']))\n",
    "\n",
    "fig.add_trace(go.Box(x=data_uniswap.status, y=data_uniswap['margin'],\n",
    "              name='Uniswap', marker_color=colors['red'], line=dict(width=1.5), whiskerwidth=0.5, fillcolor=colors['white']))\n",
    "\n",
    "fig.update_layout(yaxis_title=\"Margin of victory\", xaxis_title=\"Proposal outcome\",\n",
    "                  legend=dict(xanchor='center', x=0.5, y=1.15, orientation='h'), yaxis_ticksuffix=\"%\",  boxmode='group')\n",
    "\n",
    "# or \"inclusive\", or \"linear\" by default\n",
    "fig.update_traces(quartilemethod=\"exclusive\")\n",
    "\n",
    "file_dir = os.path.join(\n",
    "    plots_dir, \"proposal_votes_percentage_2.pdf\")\n",
    "fig.write_image(file_dir, width=width, height=height, scale=1)\n",
    "\n",
    "fig.show(plot_style)"
   ]
  }
 ],
 "metadata": {
  "kernelspec": {
   "display_name": "base",
   "language": "python",
   "name": "python3"
  },
  "language_info": {
   "codemirror_mode": {
    "name": "ipython",
    "version": 3
   },
   "file_extension": ".py",
   "mimetype": "text/x-python",
   "name": "python",
   "nbconvert_exporter": "python",
   "pygments_lexer": "ipython3",
   "version": "3.12.2"
  }
 },
 "nbformat": 4,
 "nbformat_minor": 2
}
