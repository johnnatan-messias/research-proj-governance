{
 "cells": [
  {
   "cell_type": "markdown",
   "metadata": {},
   "source": [
    "## Block Timestamps\n",
    "**[Johnnatan Messias](https://johnnatan-messias.github.io/), August 2024**\n",
    "\n",
    "Knowing when a vote was cast is crucial for understanding the dynamics of governance in decentralized autonomous organizations (DAOs). However, the logs for events do not include timestamps, so we need to obtain them separately. To do this, we must gather the block information for every transaction associated with the governance events. Since retrieving this data from an Ethereum Archive node could be time-consuming, we've opted to use the [Nansen Query API](https://query.nansen.ai/) to fetch the block timestamps instead.\n",
    "\n",
    "This notebook file contains the code used to fetch the block timestamps for the governance events. The timestamps are then saved in a new file named `./data/blocks/block_timestamp_9600000_20563001.csv.gz`."
   ]
  },
  {
   "cell_type": "code",
   "execution_count": 1,
   "metadata": {},
   "outputs": [],
   "source": [
    "import pandas as pd\n",
    "from tqdm.notebook import tqdm\n",
    "import pandas_gbq\n",
    "from google.cloud import bigquery\n",
    "%load_ext google.cloud.bigquery\n"
   ]
  },
  {
   "cell_type": "code",
   "execution_count": 2,
   "metadata": {},
   "outputs": [],
   "source": [
    "progress_bar_type = 'tqdm_notebook'\n",
    "project_id = 'Add your project id here'"
   ]
  },
  {
   "cell_type": "code",
   "execution_count": 3,
   "metadata": {},
   "outputs": [],
   "source": [
    "import os\n",
    "data_dir = os.path.realpath(os.path.join(\n",
    "    os.getcwd(), \"..\", \"data\", \"blocks\")) + os.sep\n",
    "os.makedirs(data_dir, exist_ok=True)"
   ]
  },
  {
   "cell_type": "code",
   "execution_count": 4,
   "metadata": {},
   "outputs": [],
   "source": [
    "sql = \"\"\"\n",
    "SELECT\n",
    "    number, timestamp\n",
    "FROM\n",
    "    `nansen-query.raw_ethereum.blocks`\n",
    "WHERE\n",
    "    number >= {block_number_start} AND number <= {block_number_end}\n",
    "ORDER BY\n",
    "    number DESC\n",
    "\"\"\""
   ]
  },
  {
   "cell_type": "code",
   "execution_count": null,
   "metadata": {},
   "outputs": [],
   "source": [
    "block_number_start, block_number_end = 9_600_000, 20_563_001\n",
    "\n",
    "query = sql.format(block_number_start=block_number_start,\n",
    "                   block_number_end=block_number_end)\n",
    "\n",
    "df = pandas_gbq.read_gbq(\n",
    "    query, project_id=project_id, progress_bar_type=progress_bar_type)\n",
    "\n",
    "filename = \"block_timestamp_{}_{}.csv.gz\".format(\n",
    "    block_number_start, block_number_end)\n",
    "\n",
    "df.to_csv(data_dir+filename, index=False, compression='gzip')"
   ]
  }
 ],
 "metadata": {
  "kernelspec": {
   "display_name": "base",
   "language": "python",
   "name": "python3"
  },
  "language_info": {
   "codemirror_mode": {
    "name": "ipython",
    "version": 3
   },
   "file_extension": ".py",
   "mimetype": "text/x-python",
   "name": "python",
   "nbconvert_exporter": "python",
   "pygments_lexer": "ipython3",
   "version": "3.12.2"
  }
 },
 "nbformat": 4,
 "nbformat_minor": 2
}
